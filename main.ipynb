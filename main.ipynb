{
 "cells": [
  {
   "cell_type": "code",
   "execution_count": 1,
   "id": "3eb05d48",
   "metadata": {},
   "outputs": [],
   "source": [
    "#Import the libraries \n",
    "import pandas as pd\n",
    "import numpy as np\n",
    "import matplotlib.pyplot as plt\n",
    "import seaborn as sns\n",
    "from IPython.display import display"
   ]
  },
  {
   "cell_type": "markdown",
   "id": "b75fcbe2",
   "metadata": {},
   "source": [
    "# Keşifçi Veri Analizi (EDA (Explotary Data Analysis))"
   ]
  },
  {
   "cell_type": "code",
   "execution_count": 2,
   "id": "857aea80",
   "metadata": {},
   "outputs": [
    {
     "name": "stderr",
     "output_type": "stream",
     "text": [
      "C:\\Users\\nilay\\AppData\\Local\\Temp\\ipykernel_23388\\1190414414.py:2: DtypeWarning: Columns (1,4,5,6,13,14,15,16) have mixed types. Specify dtype option on import or set low_memory=False.\n",
      "  df=pd.read_csv(r\"C:\\\\Users\\\\nilay\\\\Documents\\\\GitHub\\\\COVID-19-Open-Research-Dataset-Challenge\\\\metadata.csv\")\n"
     ]
    },
    {
     "data": {
      "application/vnd.microsoft.datawrangler.viewer.v0+json": {
       "columns": [
        {
         "name": "index",
         "rawType": "int64",
         "type": "integer"
        },
        {
         "name": "cord_uid",
         "rawType": "object",
         "type": "string"
        },
        {
         "name": "sha",
         "rawType": "object",
         "type": "string"
        },
        {
         "name": "source_x",
         "rawType": "object",
         "type": "string"
        },
        {
         "name": "title",
         "rawType": "object",
         "type": "string"
        },
        {
         "name": "doi",
         "rawType": "object",
         "type": "string"
        },
        {
         "name": "pmcid",
         "rawType": "object",
         "type": "string"
        },
        {
         "name": "pubmed_id",
         "rawType": "object",
         "type": "string"
        },
        {
         "name": "license",
         "rawType": "object",
         "type": "string"
        },
        {
         "name": "abstract",
         "rawType": "object",
         "type": "string"
        },
        {
         "name": "publish_time",
         "rawType": "object",
         "type": "string"
        },
        {
         "name": "authors",
         "rawType": "object",
         "type": "string"
        },
        {
         "name": "journal",
         "rawType": "object",
         "type": "string"
        },
        {
         "name": "mag_id",
         "rawType": "float64",
         "type": "float"
        },
        {
         "name": "who_covidence_id",
         "rawType": "object",
         "type": "unknown"
        },
        {
         "name": "arxiv_id",
         "rawType": "object",
         "type": "unknown"
        },
        {
         "name": "pdf_json_files",
         "rawType": "object",
         "type": "string"
        },
        {
         "name": "pmc_json_files",
         "rawType": "object",
         "type": "string"
        },
        {
         "name": "url",
         "rawType": "object",
         "type": "string"
        },
        {
         "name": "s2_id",
         "rawType": "float64",
         "type": "float"
        }
       ],
       "ref": "eca79515-f297-4e17-bd7d-220aa224310e",
       "rows": [
        [
         "0",
         "ug7v899j",
         "d1aafb70c066a2068b02786f8929fd9c900897fb",
         "PMC",
         "Clinical features of culture-proven Mycoplasma pneumoniae infections at King Abdulaziz University Hospital, Jeddah, Saudi Arabia",
         "10.1186/1471-2334-1-6",
         "PMC35282",
         "11472636",
         "no-cc",
         "OBJECTIVE: This retrospective chart review describes the epidemiology and clinical features of 40 patients with culture-proven Mycoplasma pneumoniae infections at King Abdulaziz University Hospital, Jeddah, Saudi Arabia. METHODS: Patients with positive M. pneumoniae cultures from respiratory specimens from January 1997 through December 1998 were identified through the Microbiology records. Charts of patients were reviewed. RESULTS: 40 patients were identified, 33 (82.5%) of whom required admission. Most infections (92.5%) were community-acquired. The infection affected all age groups but was most common in infants (32.5%) and pre-school children (22.5%). It occurred year-round but was most common in the fall (35%) and spring (30%). More than three-quarters of patients (77.5%) had comorbidities. Twenty-four isolates (60%) were associated with pneumonia, 14 (35%) with upper respiratory tract infections, and 2 (5%) with bronchiolitis. Cough (82.5%), fever (75%), and malaise (58.8%) were the most common symptoms, and crepitations (60%), and wheezes (40%) were the most common signs. Most patients with pneumonia had crepitations (79.2%) but only 25% had bronchial breathing. Immunocompromised patients were more likely than non-immunocompromised patients to present with pneumonia (8/9 versus 16/31, P = 0.05). Of the 24 patients with pneumonia, 14 (58.3%) had uneventful recovery, 4 (16.7%) recovered following some complications, 3 (12.5%) died because of M pneumoniae infection, and 3 (12.5%) died due to underlying comorbidities. The 3 patients who died of M pneumoniae pneumonia had other comorbidities. CONCLUSION: our results were similar to published data except for the finding that infections were more common in infants and preschool children and that the mortality rate of pneumonia in patients with comorbidities was high.",
         "2001-07-04",
         "Madani, Tariq A; Al-Ghamdi, Aisha A",
         "BMC Infect Dis",
         null,
         null,
         null,
         "document_parses/pdf_json/d1aafb70c066a2068b02786f8929fd9c900897fb.json",
         "document_parses/pmc_json/PMC35282.xml.json",
         "https://www.ncbi.nlm.nih.gov/pmc/articles/PMC35282/",
         null
        ],
        [
         "1",
         "02tnwd4m",
         "6b0567729c2143a66d737eb0a2f63f2dce2e5a7d",
         "PMC",
         "Nitric oxide: a pro-inflammatory mediator in lung disease?",
         "10.1186/rr14",
         "PMC59543",
         "11667967",
         "no-cc",
         "Inflammatory diseases of the respiratory tract are commonly associated with elevated production of nitric oxide (NO•) and increased indices of NO• -dependent oxidative stress. Although NO• is known to have anti-microbial, anti-inflammatory and anti-oxidant properties, various lines of evidence support the contribution of NO• to lung injury in several disease models. On the basis of biochemical evidence, it is often presumed that such NO• -dependent oxidations are due to the formation of the oxidant peroxynitrite, although alternative mechanisms involving the phagocyte-derived heme proteins myeloperoxidase and eosinophil peroxidase might be operative during conditions of inflammation. Because of the overwhelming literature on NO• generation and activities in the respiratory tract, it would be beyond the scope of this commentary to review this area comprehensively. Instead, it focuses on recent evidence and concepts of the presumed contribution of NO• to inflammatory diseases of the lung.",
         "2000-08-15",
         "Vliet, Albert van der; Eiserich, Jason P; Cross, Carroll E",
         "Respir Res",
         null,
         null,
         null,
         "document_parses/pdf_json/6b0567729c2143a66d737eb0a2f63f2dce2e5a7d.json",
         "document_parses/pmc_json/PMC59543.xml.json",
         "https://www.ncbi.nlm.nih.gov/pmc/articles/PMC59543/",
         null
        ],
        [
         "2",
         "ejv2xln0",
         "06ced00a5fc04215949aa72528f2eeaae1d58927",
         "PMC",
         "Surfactant protein-D and pulmonary host defense",
         "10.1186/rr19",
         "PMC59549",
         "11667972",
         "no-cc",
         "Surfactant protein-D (SP-D) participates in the innate response to inhaled microorganisms and organic antigens, and contributes to immune and inflammatory regulation within the lung. SP-D is synthesized and secreted by alveolar and bronchiolar epithelial cells, but is also expressed by epithelial cells lining various exocrine ducts and the mucosa of the gastrointestinal and genitourinary tracts. SP-D, a collagenous calcium-dependent lectin (or collectin), binds to surface glycoconjugates expressed by a wide variety of microorganisms, and to oligosaccharides associated with the surface of various complex organic antigens. SP-D also specifically interacts with glycoconjugates and other molecules expressed on the surface of macrophages, neutrophils, and lymphocytes. In addition, SP-D binds to specific surfactant-associated lipids and can influence the organization of lipid mixtures containing phosphatidylinositol in vitro. Consistent with these diverse in vitro activities is the observation that SP-D-deficient transgenic mice show abnormal accumulations of surfactant lipids, and respond abnormally to challenge with respiratory viruses and bacterial lipopolysaccharides. The phenotype of macrophages isolated from the lungs of SP-D-deficient mice is altered, and there is circumstantial evidence that abnormal oxidant metabolism and/or increased metalloproteinase expression contributes to the development of emphysema. The expression of SP-D is increased in response to many forms of lung injury, and deficient accumulation of appropriately oligomerized SP-D might contribute to the pathogenesis of a variety of human lung diseases.",
         "2000-08-25",
         "Crouch, Erika C",
         "Respir Res",
         null,
         null,
         null,
         "document_parses/pdf_json/06ced00a5fc04215949aa72528f2eeaae1d58927.json",
         "document_parses/pmc_json/PMC59549.xml.json",
         "https://www.ncbi.nlm.nih.gov/pmc/articles/PMC59549/",
         null
        ],
        [
         "3",
         "2b73a28n",
         "348055649b6b8cf2b9a376498df9bf41f7123605",
         "PMC",
         "Role of endothelin-1 in lung disease",
         "10.1186/rr44",
         "PMC59574",
         "11686871",
         "no-cc",
         "Endothelin-1 (ET-1) is a 21 amino acid peptide with diverse biological activity that has been implicated in numerous diseases. ET-1 is a potent mitogen regulator of smooth muscle tone, and inflammatory mediator that may play a key role in diseases of the airways, pulmonary circulation, and inflammatory lung diseases, both acute and chronic. This review will focus on the biology of ET-1 and its role in lung disease.",
         "2001-02-22",
         "Fagan, Karen A; McMurtry, Ivan F; Rodman, David M",
         "Respir Res",
         null,
         null,
         null,
         "document_parses/pdf_json/348055649b6b8cf2b9a376498df9bf41f7123605.json",
         "document_parses/pmc_json/PMC59574.xml.json",
         "https://www.ncbi.nlm.nih.gov/pmc/articles/PMC59574/",
         null
        ],
        [
         "4",
         "9785vg6d",
         "5f48792a5fa08bed9f56016f4981ae2ca6031b32",
         "PMC",
         "Gene expression in epithelial cells in response to pneumovirus infection",
         "10.1186/rr61",
         "PMC59580",
         "11686888",
         "no-cc",
         "Respiratory syncytial virus (RSV) and pneumonia virus of mice (PVM) are viruses of the family Paramyxoviridae, subfamily pneumovirus, which cause clinically important respiratory infections in humans and rodents, respectively. The respiratory epithelial target cells respond to viral infection with specific alterations in gene expression, including production of chemoattractant cytokines, adhesion molecules, elements that are related to the apoptosis response, and others that remain incompletely understood. Here we review our current understanding of these mucosal responses and discuss several genomic approaches, including differential display reverse transcription-polymerase chain reaction (PCR) and gene array strategies, that will permit us to unravel the nature of these responses in a more complete and systematic manner.",
         "2001-05-11",
         "Domachowske, Joseph B; Bonville, Cynthia A; Rosenberg, Helene F",
         "Respir Res",
         null,
         null,
         null,
         "document_parses/pdf_json/5f48792a5fa08bed9f56016f4981ae2ca6031b32.json",
         "document_parses/pmc_json/PMC59580.xml.json",
         "https://www.ncbi.nlm.nih.gov/pmc/articles/PMC59580/",
         null
        ]
       ],
       "shape": {
        "columns": 19,
        "rows": 5
       }
      },
      "text/html": [
       "<div>\n",
       "<style scoped>\n",
       "    .dataframe tbody tr th:only-of-type {\n",
       "        vertical-align: middle;\n",
       "    }\n",
       "\n",
       "    .dataframe tbody tr th {\n",
       "        vertical-align: top;\n",
       "    }\n",
       "\n",
       "    .dataframe thead th {\n",
       "        text-align: right;\n",
       "    }\n",
       "</style>\n",
       "<table border=\"1\" class=\"dataframe\">\n",
       "  <thead>\n",
       "    <tr style=\"text-align: right;\">\n",
       "      <th></th>\n",
       "      <th>cord_uid</th>\n",
       "      <th>sha</th>\n",
       "      <th>source_x</th>\n",
       "      <th>title</th>\n",
       "      <th>doi</th>\n",
       "      <th>pmcid</th>\n",
       "      <th>pubmed_id</th>\n",
       "      <th>license</th>\n",
       "      <th>abstract</th>\n",
       "      <th>publish_time</th>\n",
       "      <th>authors</th>\n",
       "      <th>journal</th>\n",
       "      <th>mag_id</th>\n",
       "      <th>who_covidence_id</th>\n",
       "      <th>arxiv_id</th>\n",
       "      <th>pdf_json_files</th>\n",
       "      <th>pmc_json_files</th>\n",
       "      <th>url</th>\n",
       "      <th>s2_id</th>\n",
       "    </tr>\n",
       "  </thead>\n",
       "  <tbody>\n",
       "    <tr>\n",
       "      <th>0</th>\n",
       "      <td>ug7v899j</td>\n",
       "      <td>d1aafb70c066a2068b02786f8929fd9c900897fb</td>\n",
       "      <td>PMC</td>\n",
       "      <td>Clinical features of culture-proven Mycoplasma...</td>\n",
       "      <td>10.1186/1471-2334-1-6</td>\n",
       "      <td>PMC35282</td>\n",
       "      <td>11472636</td>\n",
       "      <td>no-cc</td>\n",
       "      <td>OBJECTIVE: This retrospective chart review des...</td>\n",
       "      <td>2001-07-04</td>\n",
       "      <td>Madani, Tariq A; Al-Ghamdi, Aisha A</td>\n",
       "      <td>BMC Infect Dis</td>\n",
       "      <td>NaN</td>\n",
       "      <td>NaN</td>\n",
       "      <td>NaN</td>\n",
       "      <td>document_parses/pdf_json/d1aafb70c066a2068b027...</td>\n",
       "      <td>document_parses/pmc_json/PMC35282.xml.json</td>\n",
       "      <td>https://www.ncbi.nlm.nih.gov/pmc/articles/PMC3...</td>\n",
       "      <td>NaN</td>\n",
       "    </tr>\n",
       "    <tr>\n",
       "      <th>1</th>\n",
       "      <td>02tnwd4m</td>\n",
       "      <td>6b0567729c2143a66d737eb0a2f63f2dce2e5a7d</td>\n",
       "      <td>PMC</td>\n",
       "      <td>Nitric oxide: a pro-inflammatory mediator in l...</td>\n",
       "      <td>10.1186/rr14</td>\n",
       "      <td>PMC59543</td>\n",
       "      <td>11667967</td>\n",
       "      <td>no-cc</td>\n",
       "      <td>Inflammatory diseases of the respiratory tract...</td>\n",
       "      <td>2000-08-15</td>\n",
       "      <td>Vliet, Albert van der; Eiserich, Jason P; Cros...</td>\n",
       "      <td>Respir Res</td>\n",
       "      <td>NaN</td>\n",
       "      <td>NaN</td>\n",
       "      <td>NaN</td>\n",
       "      <td>document_parses/pdf_json/6b0567729c2143a66d737...</td>\n",
       "      <td>document_parses/pmc_json/PMC59543.xml.json</td>\n",
       "      <td>https://www.ncbi.nlm.nih.gov/pmc/articles/PMC5...</td>\n",
       "      <td>NaN</td>\n",
       "    </tr>\n",
       "    <tr>\n",
       "      <th>2</th>\n",
       "      <td>ejv2xln0</td>\n",
       "      <td>06ced00a5fc04215949aa72528f2eeaae1d58927</td>\n",
       "      <td>PMC</td>\n",
       "      <td>Surfactant protein-D and pulmonary host defense</td>\n",
       "      <td>10.1186/rr19</td>\n",
       "      <td>PMC59549</td>\n",
       "      <td>11667972</td>\n",
       "      <td>no-cc</td>\n",
       "      <td>Surfactant protein-D (SP-D) participates in th...</td>\n",
       "      <td>2000-08-25</td>\n",
       "      <td>Crouch, Erika C</td>\n",
       "      <td>Respir Res</td>\n",
       "      <td>NaN</td>\n",
       "      <td>NaN</td>\n",
       "      <td>NaN</td>\n",
       "      <td>document_parses/pdf_json/06ced00a5fc04215949aa...</td>\n",
       "      <td>document_parses/pmc_json/PMC59549.xml.json</td>\n",
       "      <td>https://www.ncbi.nlm.nih.gov/pmc/articles/PMC5...</td>\n",
       "      <td>NaN</td>\n",
       "    </tr>\n",
       "    <tr>\n",
       "      <th>3</th>\n",
       "      <td>2b73a28n</td>\n",
       "      <td>348055649b6b8cf2b9a376498df9bf41f7123605</td>\n",
       "      <td>PMC</td>\n",
       "      <td>Role of endothelin-1 in lung disease</td>\n",
       "      <td>10.1186/rr44</td>\n",
       "      <td>PMC59574</td>\n",
       "      <td>11686871</td>\n",
       "      <td>no-cc</td>\n",
       "      <td>Endothelin-1 (ET-1) is a 21 amino acid peptide...</td>\n",
       "      <td>2001-02-22</td>\n",
       "      <td>Fagan, Karen A; McMurtry, Ivan F; Rodman, David M</td>\n",
       "      <td>Respir Res</td>\n",
       "      <td>NaN</td>\n",
       "      <td>NaN</td>\n",
       "      <td>NaN</td>\n",
       "      <td>document_parses/pdf_json/348055649b6b8cf2b9a37...</td>\n",
       "      <td>document_parses/pmc_json/PMC59574.xml.json</td>\n",
       "      <td>https://www.ncbi.nlm.nih.gov/pmc/articles/PMC5...</td>\n",
       "      <td>NaN</td>\n",
       "    </tr>\n",
       "    <tr>\n",
       "      <th>4</th>\n",
       "      <td>9785vg6d</td>\n",
       "      <td>5f48792a5fa08bed9f56016f4981ae2ca6031b32</td>\n",
       "      <td>PMC</td>\n",
       "      <td>Gene expression in epithelial cells in respons...</td>\n",
       "      <td>10.1186/rr61</td>\n",
       "      <td>PMC59580</td>\n",
       "      <td>11686888</td>\n",
       "      <td>no-cc</td>\n",
       "      <td>Respiratory syncytial virus (RSV) and pneumoni...</td>\n",
       "      <td>2001-05-11</td>\n",
       "      <td>Domachowske, Joseph B; Bonville, Cynthia A; Ro...</td>\n",
       "      <td>Respir Res</td>\n",
       "      <td>NaN</td>\n",
       "      <td>NaN</td>\n",
       "      <td>NaN</td>\n",
       "      <td>document_parses/pdf_json/5f48792a5fa08bed9f560...</td>\n",
       "      <td>document_parses/pmc_json/PMC59580.xml.json</td>\n",
       "      <td>https://www.ncbi.nlm.nih.gov/pmc/articles/PMC5...</td>\n",
       "      <td>NaN</td>\n",
       "    </tr>\n",
       "  </tbody>\n",
       "</table>\n",
       "</div>"
      ],
      "text/plain": [
       "   cord_uid                                       sha source_x  \\\n",
       "0  ug7v899j  d1aafb70c066a2068b02786f8929fd9c900897fb      PMC   \n",
       "1  02tnwd4m  6b0567729c2143a66d737eb0a2f63f2dce2e5a7d      PMC   \n",
       "2  ejv2xln0  06ced00a5fc04215949aa72528f2eeaae1d58927      PMC   \n",
       "3  2b73a28n  348055649b6b8cf2b9a376498df9bf41f7123605      PMC   \n",
       "4  9785vg6d  5f48792a5fa08bed9f56016f4981ae2ca6031b32      PMC   \n",
       "\n",
       "                                               title                    doi  \\\n",
       "0  Clinical features of culture-proven Mycoplasma...  10.1186/1471-2334-1-6   \n",
       "1  Nitric oxide: a pro-inflammatory mediator in l...           10.1186/rr14   \n",
       "2    Surfactant protein-D and pulmonary host defense           10.1186/rr19   \n",
       "3               Role of endothelin-1 in lung disease           10.1186/rr44   \n",
       "4  Gene expression in epithelial cells in respons...           10.1186/rr61   \n",
       "\n",
       "      pmcid pubmed_id license  \\\n",
       "0  PMC35282  11472636   no-cc   \n",
       "1  PMC59543  11667967   no-cc   \n",
       "2  PMC59549  11667972   no-cc   \n",
       "3  PMC59574  11686871   no-cc   \n",
       "4  PMC59580  11686888   no-cc   \n",
       "\n",
       "                                            abstract publish_time  \\\n",
       "0  OBJECTIVE: This retrospective chart review des...   2001-07-04   \n",
       "1  Inflammatory diseases of the respiratory tract...   2000-08-15   \n",
       "2  Surfactant protein-D (SP-D) participates in th...   2000-08-25   \n",
       "3  Endothelin-1 (ET-1) is a 21 amino acid peptide...   2001-02-22   \n",
       "4  Respiratory syncytial virus (RSV) and pneumoni...   2001-05-11   \n",
       "\n",
       "                                             authors         journal  mag_id  \\\n",
       "0                Madani, Tariq A; Al-Ghamdi, Aisha A  BMC Infect Dis     NaN   \n",
       "1  Vliet, Albert van der; Eiserich, Jason P; Cros...      Respir Res     NaN   \n",
       "2                                    Crouch, Erika C      Respir Res     NaN   \n",
       "3  Fagan, Karen A; McMurtry, Ivan F; Rodman, David M      Respir Res     NaN   \n",
       "4  Domachowske, Joseph B; Bonville, Cynthia A; Ro...      Respir Res     NaN   \n",
       "\n",
       "  who_covidence_id arxiv_id  \\\n",
       "0              NaN      NaN   \n",
       "1              NaN      NaN   \n",
       "2              NaN      NaN   \n",
       "3              NaN      NaN   \n",
       "4              NaN      NaN   \n",
       "\n",
       "                                      pdf_json_files  \\\n",
       "0  document_parses/pdf_json/d1aafb70c066a2068b027...   \n",
       "1  document_parses/pdf_json/6b0567729c2143a66d737...   \n",
       "2  document_parses/pdf_json/06ced00a5fc04215949aa...   \n",
       "3  document_parses/pdf_json/348055649b6b8cf2b9a37...   \n",
       "4  document_parses/pdf_json/5f48792a5fa08bed9f560...   \n",
       "\n",
       "                               pmc_json_files  \\\n",
       "0  document_parses/pmc_json/PMC35282.xml.json   \n",
       "1  document_parses/pmc_json/PMC59543.xml.json   \n",
       "2  document_parses/pmc_json/PMC59549.xml.json   \n",
       "3  document_parses/pmc_json/PMC59574.xml.json   \n",
       "4  document_parses/pmc_json/PMC59580.xml.json   \n",
       "\n",
       "                                                 url  s2_id  \n",
       "0  https://www.ncbi.nlm.nih.gov/pmc/articles/PMC3...    NaN  \n",
       "1  https://www.ncbi.nlm.nih.gov/pmc/articles/PMC5...    NaN  \n",
       "2  https://www.ncbi.nlm.nih.gov/pmc/articles/PMC5...    NaN  \n",
       "3  https://www.ncbi.nlm.nih.gov/pmc/articles/PMC5...    NaN  \n",
       "4  https://www.ncbi.nlm.nih.gov/pmc/articles/PMC5...    NaN  "
      ]
     },
     "execution_count": 2,
     "metadata": {},
     "output_type": "execute_result"
    }
   ],
   "source": [
    "# Load the dataset\n",
    "df=pd.read_csv(r\"C:\\\\Users\\\\nilay\\\\Documents\\\\GitHub\\\\COVID-19-Open-Research-Dataset-Challenge\\\\metadata.csv\")\n",
    "# Display the first few rows of the dataset\n",
    "df.head() \n",
    "# Conclusion:\n",
    "# Data looks clean with expected structure."
   ]
  },
  {
   "cell_type": "code",
   "execution_count": 3,
   "id": "22866ff1",
   "metadata": {},
   "outputs": [
    {
     "name": "stdout",
     "output_type": "stream",
     "text": [
      "Dataset Information:\n",
      "<class 'pandas.core.frame.DataFrame'>\n",
      "RangeIndex: 1056660 entries, 0 to 1056659\n",
      "Data columns (total 19 columns):\n",
      " #   Column            Non-Null Count    Dtype  \n",
      "---  ------            --------------    -----  \n",
      " 0   cord_uid          1056660 non-null  object \n",
      " 1   sha               373766 non-null   object \n",
      " 2   source_x          1056660 non-null  object \n",
      " 3   title             1056157 non-null  object \n",
      " 4   doi               656780 non-null   object \n",
      " 5   pmcid             389571 non-null   object \n",
      " 6   pubmed_id         498932 non-null   object \n",
      " 7   license           1056660 non-null  object \n",
      " 8   abstract          821116 non-null   object \n",
      " 9   publish_time      1054846 non-null  object \n",
      " 10  authors           1032791 non-null  object \n",
      " 11  journal           969338 non-null   object \n",
      " 12  mag_id            0 non-null        float64\n",
      " 13  who_covidence_id  482935 non-null   object \n",
      " 14  arxiv_id          14249 non-null    object \n",
      " 15  pdf_json_files    373766 non-null   object \n",
      " 16  pmc_json_files    315742 non-null   object \n",
      " 17  url               686934 non-null   object \n",
      " 18  s2_id             976468 non-null   float64\n",
      "dtypes: float64(2), object(17)\n",
      "memory usage: 153.2+ MB\n",
      "None\n",
      "\n",
      "Columns in the dataset:\n",
      "['cord_uid', 'sha', 'source_x', 'title', 'doi', 'pmcid', 'pubmed_id', 'license', 'abstract', 'publish_time', 'authors', 'journal', 'mag_id', 'who_covidence_id', 'arxiv_id', 'pdf_json_files', 'pmc_json_files', 'url', 's2_id']\n"
     ]
    }
   ],
   "source": [
    "print(\"Dataset Information:\")\n",
    "print(df.info())\n",
    "# Display the columns of the dataset\n",
    "print(\"\\nColumns in the dataset:\")\n",
    "print(df.columns.tolist()) \n",
    "\n",
    "\n",
    "# Conclusion:\n",
    "# we have 10 columns of int data type \n",
    "# we have 1 column of float data type\n",
    "# we have 3 columns of object data type"
   ]
  },
  {
   "cell_type": "code",
   "execution_count": 4,
   "id": "4c581e0c",
   "metadata": {},
   "outputs": [
    {
     "data": {
      "application/vnd.microsoft.datawrangler.viewer.v0+json": {
       "columns": [
        {
         "name": "index",
         "rawType": "int64",
         "type": "integer"
        },
        {
         "name": "cord_uid",
         "rawType": "object",
         "type": "string"
        },
        {
         "name": "sha",
         "rawType": "object",
         "type": "string"
        },
        {
         "name": "source_x",
         "rawType": "object",
         "type": "string"
        },
        {
         "name": "title",
         "rawType": "object",
         "type": "string"
        },
        {
         "name": "doi",
         "rawType": "object",
         "type": "string"
        },
        {
         "name": "pmcid",
         "rawType": "object",
         "type": "unknown"
        },
        {
         "name": "pubmed_id",
         "rawType": "object",
         "type": "unknown"
        },
        {
         "name": "license",
         "rawType": "object",
         "type": "string"
        },
        {
         "name": "abstract",
         "rawType": "object",
         "type": "string"
        },
        {
         "name": "publish_time",
         "rawType": "object",
         "type": "string"
        },
        {
         "name": "authors",
         "rawType": "object",
         "type": "string"
        },
        {
         "name": "journal",
         "rawType": "object",
         "type": "string"
        },
        {
         "name": "mag_id",
         "rawType": "float64",
         "type": "float"
        },
        {
         "name": "who_covidence_id",
         "rawType": "object",
         "type": "unknown"
        },
        {
         "name": "arxiv_id",
         "rawType": "object",
         "type": "unknown"
        },
        {
         "name": "pdf_json_files",
         "rawType": "object",
         "type": "string"
        },
        {
         "name": "pmc_json_files",
         "rawType": "object",
         "type": "unknown"
        },
        {
         "name": "url",
         "rawType": "object",
         "type": "string"
        },
        {
         "name": "s2_id",
         "rawType": "float64",
         "type": "float"
        }
       ],
       "ref": "21a2730e-b70c-4958-a961-e4e209572aeb",
       "rows": [
        [
         "1056655",
         "aeuy92bx",
         "d86cfba423427426c10fa9092748733f5c7ca7e0; a8e53c77bc72f467723a7d5b8020875c0e96f8aa",
         "BioRxiv; MedRxiv; WHO",
         "Potent neutralization of 2019 novel coronavirus by recombinant ACE2-Ig",
         "10.1101/2020.02.01.929976",
         null,
         null,
         "medrxiv",
         "2019-nCoV, which is a novel coronavirus emerged in Wuhan, China, at the end of 2019, has caused at least infected 11,844 as of Feb 1, 2020. However, there is no specific antiviral treatment or vaccine currently. Very recently report had suggested that novel CoV would use the same cell entry receptor, ACE2, as the SARS-CoV. In this report, we generated a novel recombinant protein by connecting the extracellular domain of human ACE2 to the Fc region of the human immunoglobulin IgG1. An ACE2 mutant with low catalytic activity was also used in the study. The fusion proteins were then characterized. Both fusion proteins has high affinity binding to the receptor-binding domain (RBD) of SARS-CoV and 2019-nCoV and exerted desired pharmacological properties. Moreover, fusion proteins potently neutralized SARS-CoV and 2019-nCoV in vitro. As these fusion proteins exhibit cross-reactivity against coronaviruses, they could have potential applications for diagnosis, prophylaxis, and treatment of 2019-nCoV.",
         "2020-02-02",
         "Lei, Changhai; Fu, Wenyan; Qian, Kewen; Li, Tian; Zhang, Sheng; Ding, Min; Hu, Shi",
         "bioRxiv",
         null,
         null,
         null,
         "document_parses/pdf_json/d86cfba423427426c10fa9092748733f5c7ca7e0.json; document_parses/pdf_json/a8e53c77bc72f467723a7d5b8020875c0e96f8aa.json",
         null,
         "https://doi.org/10.1101/2020.02.01.929976",
         "211121242.0"
        ],
        [
         "1056656",
         "n8hlrknq",
         "b98985f125c3391aac709332e6380fe8b11ef6e5",
         "Elsevier; Medline; PMC",
         "Molecular-based diagnostics, including future trends",
         "10.1016/j.mpmed.2013.08.012",
         "PMC7108438",
         "32288574.0",
         "no-cc",
         "Microbiology laboratories have traditionally relied upon phenotypic methods involving culture and biochemical testing to identify and characterize clinically important pathogens. These techniques have several disadvantages including poor sensitivity and long turn-around time. Molecular and mass spectroscopy techniques are rapidly changing infection diagnosis and management. Compared with conventional culture-based techniques, these modern approaches provide substantially more rapid and specific information on organism identification and on the presence of resistance mechanisms. These methods are expected to contribute substantially to enhancing antibiotic stewardship and to improving ‘time to appropriate antibiotics’, one of the most important factors in improving the prognosis of patients with life-threatening infections. This article gives an overview of some of the practical applications of these newer technologies.",
         "2013-10-28",
         "Goldenberg, Simon",
         "Medicine (Abingdon)",
         null,
         null,
         null,
         "document_parses/pdf_json/b98985f125c3391aac709332e6380fe8b11ef6e5.json",
         "document_parses/pmc_json/PMC7108438.xml.json",
         "https://api.elsevier.com/content/article/pii/S135730391300248X; https://doi.org/10.1016/j.mpmed.2013.08.012; https://www.sciencedirect.com/science/article/pii/S135730391300248X; https://www.ncbi.nlm.nih.gov/pubmed/32288574/",
         "214756712.0"
        ],
        [
         "1056657",
         "05dxn54t",
         "0d1698212a1fcbbed2ffff38953397b3fb82f30d",
         "Medline; PMC",
         "A Patient With Bilateral Conjunctivitis Positive for SARS-CoV-2 RNA in a Conjunctival Sample",
         "10.1097/ico.0000000000002485",
         "PMC7446980",
         "32794685.0",
         "no-cc",
         "To present a patient with bilateral conjunctivitis, testing positive for viral RNA of severe acute respiratory syndrome coronavirus 2 (SARS-CoV-2) in both nasopharyngeal and conjunctival samples. METHODS: A 40-year-old man with bilateral acute conjunctivitis and suspicious signs of coronavirus disease 2019 (COVID-19) presented to the hospital. A detailed ophthalmic examination was performed. Samples obtained from conjunctival and nasopharyngeal swabs were tested by reverse transcription PCR (RT-PCR) for the detection of SARS-CoV-2 virus. Ocular findings and duration of the presence of viral RNA in the conjunctival specimens were evaluated at follow-up visits. RESULTS: Slit-lamp biomicroscopy revealed bilateral acute follicular conjunctivitis. The RT-PCR assay demonstrated the presence of viral RNA in the nasopharyngeal and conjunctival specimens at the initial visit and at the 4-day follow-up. Conjunctivitis findings were decreased after 4 days and recovered completely without any sequelae within10 days. The PCR results of both nasopharyngeal and conjunctiva specimens were negative for the viral RNA at 10 days. CONCLUSIONS: Bilateral conjunctivitis is rare in patients infected with COVID-19. Although it is difficult to detect viral RNA from conjunctival swabs, conjunctival secretions may be a source of contamination, and protective measures must be taken.",
         "2020-07-02",
         "Sirakaya, Ender; Sahiner, Mustafa; Aslan Sirakaya, Hatice",
         "Cornea",
         null,
         null,
         null,
         "document_parses/pdf_json/0d1698212a1fcbbed2ffff38953397b3fb82f30d.json",
         "document_parses/pmc_json/PMC7446980.xml.json",
         "https://www.ncbi.nlm.nih.gov/pubmed/32794685/; https://doi.org/10.1097/ico.0000000000002485",
         "221122247.0"
        ],
        [
         "1056658",
         "zpeij14g",
         "9b2bbb5ceb21084931b5de7e0d60633e524a20bb",
         "Medline; PMC",
         "Incidental lowering of otitis-media complaints in otitis-prone children during COVID-19 pandemic: not all evil comes to hurt",
         "10.1007/s00431-020-03747-9",
         "PMC7370867",
         "32691131.0",
         "no-cc",
         "Given COVID-19 pandemic periodic outpatient assessment of otitis-prone children regularly followed at our tertiary outpatient clinic of upper respiratory tract infections was discontinued since 9 March. In order to avoid leaving the patients to themselves just during the winter months, which are the most critical ones for these children, we kept in touch with the families of 102 children (mean age 41.4 ± 14.0 months) who had had a follow-up visit scheduled during the lockdown, and compensated with telemedicine assessment. This incidentally leads to the unexpected but not at all negative finding that a consistent clinical improvement had been occurred in most (82.3%) of children. A statistically significant reduction in the mean number of documented acute otitis media episodes, otorrhea episodes, and systemic antibiotic treatments during the February–April 2020 period compared with February–April 2019 was attested. Clinical evaluation performed in 27.4% cases revealed normal middle ear findings in all but three (89.3%) children. Conclusion: Our data document a global improvement of otitis-prone children in Milan during the Italian lockdown, as a fortuitous and incidental positive effect of the national lockdown.",
         "2020-07-20",
         "Torretta, Sara; Capaccio, Pasquale; Coro, Ilaria; Bosis, Samantha; Pace, Maria Elisabetta; Tosi, Pietro; Pignataro, Lorenzo; Marchisio, Paola",
         "Eur J Pediatr",
         null,
         null,
         null,
         "document_parses/pdf_json/9b2bbb5ceb21084931b5de7e0d60633e524a20bb.json",
         "document_parses/pmc_json/PMC7370867.xml.json",
         "https://doi.org/10.1007/s00431-020-03747-9; https://www.ncbi.nlm.nih.gov/pubmed/32691131/",
         "220647629.0"
        ],
        [
         "1056659",
         "pq54lvya",
         "c7ae1a19b70e6e2806b670e4c0f64d3043698ee1",
         "Medline; PMC",
         "Hospital variation in admissions to neonatal intensive care units by diagnosis severity and category",
         "10.1038/s41372-020-00775-z",
         "PMC7427695",
         "32801351.0",
         "no-cc",
         "OBJECTIVE: To examine interhospital variation in admissions to neonatal intensive care units (NICU) and reasons for the variation. STUDY DESIGN: 2010–2012 linked birth certificate and hospital discharge data from 35 hospitals in California on live births at 35–42 weeks gestation and ≥1500 g birth weight were used. Hospital variation in NICU admission rates was assessed by coefficient of variation. Patient/hospital characteristics associated with NICU admissions were identified by multivariable regression. RESULTS: Among 276,489 newborns, 6.3% were admitted to NICU with 34.5% of them having mild diagnoses. There was high interhospital variation in overall risk-adjusted rate of NICU admission (coefficient of variation = 26.2) and NICU admission rates for mild diagnoses (coefficient of variation: 46.4–74.0), but lower variation for moderate/severe diagnoses (coefficient of variation: 8.8–14.1). Births at hospitals with more NICU beds had a higher likelihood of NICU admission. CONCLUSION: Interhospital variation in NICU admissions is mostly driven by admissions for mild diagnoses, suggesting potential overuse.",
         "2020-08-14",
         "Haidari, Eman S.; Lee, Henry C.; Illuzzi, Jessica L.; Phibbs, Ciaran S.; Lin, Haiqun; Xu, Xiao",
         "J Perinatol",
         null,
         null,
         null,
         "document_parses/pdf_json/c7ae1a19b70e6e2806b670e4c0f64d3043698ee1.json",
         "document_parses/pmc_json/PMC7427695.xml.json",
         "https://doi.org/10.1038/s41372-020-00775-z; https://www.ncbi.nlm.nih.gov/pubmed/32801351/",
         "221129148.0"
        ]
       ],
       "shape": {
        "columns": 19,
        "rows": 5
       }
      },
      "text/html": [
       "<div>\n",
       "<style scoped>\n",
       "    .dataframe tbody tr th:only-of-type {\n",
       "        vertical-align: middle;\n",
       "    }\n",
       "\n",
       "    .dataframe tbody tr th {\n",
       "        vertical-align: top;\n",
       "    }\n",
       "\n",
       "    .dataframe thead th {\n",
       "        text-align: right;\n",
       "    }\n",
       "</style>\n",
       "<table border=\"1\" class=\"dataframe\">\n",
       "  <thead>\n",
       "    <tr style=\"text-align: right;\">\n",
       "      <th></th>\n",
       "      <th>cord_uid</th>\n",
       "      <th>sha</th>\n",
       "      <th>source_x</th>\n",
       "      <th>title</th>\n",
       "      <th>doi</th>\n",
       "      <th>pmcid</th>\n",
       "      <th>pubmed_id</th>\n",
       "      <th>license</th>\n",
       "      <th>abstract</th>\n",
       "      <th>publish_time</th>\n",
       "      <th>authors</th>\n",
       "      <th>journal</th>\n",
       "      <th>mag_id</th>\n",
       "      <th>who_covidence_id</th>\n",
       "      <th>arxiv_id</th>\n",
       "      <th>pdf_json_files</th>\n",
       "      <th>pmc_json_files</th>\n",
       "      <th>url</th>\n",
       "      <th>s2_id</th>\n",
       "    </tr>\n",
       "  </thead>\n",
       "  <tbody>\n",
       "    <tr>\n",
       "      <th>1056655</th>\n",
       "      <td>aeuy92bx</td>\n",
       "      <td>d86cfba423427426c10fa9092748733f5c7ca7e0; a8e5...</td>\n",
       "      <td>BioRxiv; MedRxiv; WHO</td>\n",
       "      <td>Potent neutralization of 2019 novel coronaviru...</td>\n",
       "      <td>10.1101/2020.02.01.929976</td>\n",
       "      <td>NaN</td>\n",
       "      <td>NaN</td>\n",
       "      <td>medrxiv</td>\n",
       "      <td>2019-nCoV, which is a novel coronavirus emerge...</td>\n",
       "      <td>2020-02-02</td>\n",
       "      <td>Lei, Changhai; Fu, Wenyan; Qian, Kewen; Li, Ti...</td>\n",
       "      <td>bioRxiv</td>\n",
       "      <td>NaN</td>\n",
       "      <td>NaN</td>\n",
       "      <td>NaN</td>\n",
       "      <td>document_parses/pdf_json/d86cfba423427426c10fa...</td>\n",
       "      <td>NaN</td>\n",
       "      <td>https://doi.org/10.1101/2020.02.01.929976</td>\n",
       "      <td>211121242.0</td>\n",
       "    </tr>\n",
       "    <tr>\n",
       "      <th>1056656</th>\n",
       "      <td>n8hlrknq</td>\n",
       "      <td>b98985f125c3391aac709332e6380fe8b11ef6e5</td>\n",
       "      <td>Elsevier; Medline; PMC</td>\n",
       "      <td>Molecular-based diagnostics, including future ...</td>\n",
       "      <td>10.1016/j.mpmed.2013.08.012</td>\n",
       "      <td>PMC7108438</td>\n",
       "      <td>32288574.0</td>\n",
       "      <td>no-cc</td>\n",
       "      <td>Microbiology laboratories have traditionally r...</td>\n",
       "      <td>2013-10-28</td>\n",
       "      <td>Goldenberg, Simon</td>\n",
       "      <td>Medicine (Abingdon)</td>\n",
       "      <td>NaN</td>\n",
       "      <td>NaN</td>\n",
       "      <td>NaN</td>\n",
       "      <td>document_parses/pdf_json/b98985f125c3391aac709...</td>\n",
       "      <td>document_parses/pmc_json/PMC7108438.xml.json</td>\n",
       "      <td>https://api.elsevier.com/content/article/pii/S...</td>\n",
       "      <td>214756712.0</td>\n",
       "    </tr>\n",
       "    <tr>\n",
       "      <th>1056657</th>\n",
       "      <td>05dxn54t</td>\n",
       "      <td>0d1698212a1fcbbed2ffff38953397b3fb82f30d</td>\n",
       "      <td>Medline; PMC</td>\n",
       "      <td>A Patient With Bilateral Conjunctivitis Positi...</td>\n",
       "      <td>10.1097/ico.0000000000002485</td>\n",
       "      <td>PMC7446980</td>\n",
       "      <td>32794685.0</td>\n",
       "      <td>no-cc</td>\n",
       "      <td>To present a patient with bilateral conjunctiv...</td>\n",
       "      <td>2020-07-02</td>\n",
       "      <td>Sirakaya, Ender; Sahiner, Mustafa; Aslan Sirak...</td>\n",
       "      <td>Cornea</td>\n",
       "      <td>NaN</td>\n",
       "      <td>NaN</td>\n",
       "      <td>NaN</td>\n",
       "      <td>document_parses/pdf_json/0d1698212a1fcbbed2fff...</td>\n",
       "      <td>document_parses/pmc_json/PMC7446980.xml.json</td>\n",
       "      <td>https://www.ncbi.nlm.nih.gov/pubmed/32794685/;...</td>\n",
       "      <td>221122247.0</td>\n",
       "    </tr>\n",
       "    <tr>\n",
       "      <th>1056658</th>\n",
       "      <td>zpeij14g</td>\n",
       "      <td>9b2bbb5ceb21084931b5de7e0d60633e524a20bb</td>\n",
       "      <td>Medline; PMC</td>\n",
       "      <td>Incidental lowering of otitis-media complaints...</td>\n",
       "      <td>10.1007/s00431-020-03747-9</td>\n",
       "      <td>PMC7370867</td>\n",
       "      <td>32691131.0</td>\n",
       "      <td>no-cc</td>\n",
       "      <td>Given COVID-19 pandemic periodic outpatient as...</td>\n",
       "      <td>2020-07-20</td>\n",
       "      <td>Torretta, Sara; Capaccio, Pasquale; Coro, Ilar...</td>\n",
       "      <td>Eur J Pediatr</td>\n",
       "      <td>NaN</td>\n",
       "      <td>NaN</td>\n",
       "      <td>NaN</td>\n",
       "      <td>document_parses/pdf_json/9b2bbb5ceb21084931b5d...</td>\n",
       "      <td>document_parses/pmc_json/PMC7370867.xml.json</td>\n",
       "      <td>https://doi.org/10.1007/s00431-020-03747-9; ht...</td>\n",
       "      <td>220647629.0</td>\n",
       "    </tr>\n",
       "    <tr>\n",
       "      <th>1056659</th>\n",
       "      <td>pq54lvya</td>\n",
       "      <td>c7ae1a19b70e6e2806b670e4c0f64d3043698ee1</td>\n",
       "      <td>Medline; PMC</td>\n",
       "      <td>Hospital variation in admissions to neonatal i...</td>\n",
       "      <td>10.1038/s41372-020-00775-z</td>\n",
       "      <td>PMC7427695</td>\n",
       "      <td>32801351.0</td>\n",
       "      <td>no-cc</td>\n",
       "      <td>OBJECTIVE: To examine interhospital variation ...</td>\n",
       "      <td>2020-08-14</td>\n",
       "      <td>Haidari, Eman S.; Lee, Henry C.; Illuzzi, Jess...</td>\n",
       "      <td>J Perinatol</td>\n",
       "      <td>NaN</td>\n",
       "      <td>NaN</td>\n",
       "      <td>NaN</td>\n",
       "      <td>document_parses/pdf_json/c7ae1a19b70e6e2806b67...</td>\n",
       "      <td>document_parses/pmc_json/PMC7427695.xml.json</td>\n",
       "      <td>https://doi.org/10.1038/s41372-020-00775-z; ht...</td>\n",
       "      <td>221129148.0</td>\n",
       "    </tr>\n",
       "  </tbody>\n",
       "</table>\n",
       "</div>"
      ],
      "text/plain": [
       "         cord_uid                                                sha  \\\n",
       "1056655  aeuy92bx  d86cfba423427426c10fa9092748733f5c7ca7e0; a8e5...   \n",
       "1056656  n8hlrknq           b98985f125c3391aac709332e6380fe8b11ef6e5   \n",
       "1056657  05dxn54t           0d1698212a1fcbbed2ffff38953397b3fb82f30d   \n",
       "1056658  zpeij14g           9b2bbb5ceb21084931b5de7e0d60633e524a20bb   \n",
       "1056659  pq54lvya           c7ae1a19b70e6e2806b670e4c0f64d3043698ee1   \n",
       "\n",
       "                       source_x  \\\n",
       "1056655   BioRxiv; MedRxiv; WHO   \n",
       "1056656  Elsevier; Medline; PMC   \n",
       "1056657            Medline; PMC   \n",
       "1056658            Medline; PMC   \n",
       "1056659            Medline; PMC   \n",
       "\n",
       "                                                     title  \\\n",
       "1056655  Potent neutralization of 2019 novel coronaviru...   \n",
       "1056656  Molecular-based diagnostics, including future ...   \n",
       "1056657  A Patient With Bilateral Conjunctivitis Positi...   \n",
       "1056658  Incidental lowering of otitis-media complaints...   \n",
       "1056659  Hospital variation in admissions to neonatal i...   \n",
       "\n",
       "                                  doi       pmcid   pubmed_id  license  \\\n",
       "1056655     10.1101/2020.02.01.929976         NaN         NaN  medrxiv   \n",
       "1056656   10.1016/j.mpmed.2013.08.012  PMC7108438  32288574.0    no-cc   \n",
       "1056657  10.1097/ico.0000000000002485  PMC7446980  32794685.0    no-cc   \n",
       "1056658    10.1007/s00431-020-03747-9  PMC7370867  32691131.0    no-cc   \n",
       "1056659    10.1038/s41372-020-00775-z  PMC7427695  32801351.0    no-cc   \n",
       "\n",
       "                                                  abstract publish_time  \\\n",
       "1056655  2019-nCoV, which is a novel coronavirus emerge...   2020-02-02   \n",
       "1056656  Microbiology laboratories have traditionally r...   2013-10-28   \n",
       "1056657  To present a patient with bilateral conjunctiv...   2020-07-02   \n",
       "1056658  Given COVID-19 pandemic periodic outpatient as...   2020-07-20   \n",
       "1056659  OBJECTIVE: To examine interhospital variation ...   2020-08-14   \n",
       "\n",
       "                                                   authors  \\\n",
       "1056655  Lei, Changhai; Fu, Wenyan; Qian, Kewen; Li, Ti...   \n",
       "1056656                                  Goldenberg, Simon   \n",
       "1056657  Sirakaya, Ender; Sahiner, Mustafa; Aslan Sirak...   \n",
       "1056658  Torretta, Sara; Capaccio, Pasquale; Coro, Ilar...   \n",
       "1056659  Haidari, Eman S.; Lee, Henry C.; Illuzzi, Jess...   \n",
       "\n",
       "                     journal  mag_id who_covidence_id arxiv_id  \\\n",
       "1056655              bioRxiv     NaN              NaN      NaN   \n",
       "1056656  Medicine (Abingdon)     NaN              NaN      NaN   \n",
       "1056657               Cornea     NaN              NaN      NaN   \n",
       "1056658        Eur J Pediatr     NaN              NaN      NaN   \n",
       "1056659          J Perinatol     NaN              NaN      NaN   \n",
       "\n",
       "                                            pdf_json_files  \\\n",
       "1056655  document_parses/pdf_json/d86cfba423427426c10fa...   \n",
       "1056656  document_parses/pdf_json/b98985f125c3391aac709...   \n",
       "1056657  document_parses/pdf_json/0d1698212a1fcbbed2fff...   \n",
       "1056658  document_parses/pdf_json/9b2bbb5ceb21084931b5d...   \n",
       "1056659  document_parses/pdf_json/c7ae1a19b70e6e2806b67...   \n",
       "\n",
       "                                       pmc_json_files  \\\n",
       "1056655                                           NaN   \n",
       "1056656  document_parses/pmc_json/PMC7108438.xml.json   \n",
       "1056657  document_parses/pmc_json/PMC7446980.xml.json   \n",
       "1056658  document_parses/pmc_json/PMC7370867.xml.json   \n",
       "1056659  document_parses/pmc_json/PMC7427695.xml.json   \n",
       "\n",
       "                                                       url        s2_id  \n",
       "1056655          https://doi.org/10.1101/2020.02.01.929976  211121242.0  \n",
       "1056656  https://api.elsevier.com/content/article/pii/S...  214756712.0  \n",
       "1056657  https://www.ncbi.nlm.nih.gov/pubmed/32794685/;...  221122247.0  \n",
       "1056658  https://doi.org/10.1007/s00431-020-03747-9; ht...  220647629.0  \n",
       "1056659  https://doi.org/10.1038/s41372-020-00775-z; ht...  221129148.0  "
      ]
     },
     "execution_count": 4,
     "metadata": {},
     "output_type": "execute_result"
    }
   ],
   "source": [
    "# Display the last five rows of the dataset\n",
    "df.tail()"
   ]
  },
  {
   "cell_type": "code",
   "execution_count": 5,
   "id": "42ba12d4",
   "metadata": {},
   "outputs": [
    {
     "data": {
      "text/plain": [
       "(1056660, 19)"
      ]
     },
     "execution_count": 5,
     "metadata": {},
     "output_type": "execute_result"
    }
   ],
   "source": [
    "# Display the shape of the dataset\n",
    "df.shape"
   ]
  },
  {
   "cell_type": "code",
   "execution_count": 6,
   "id": "c8877d38",
   "metadata": {},
   "outputs": [
    {
     "data": {
      "application/vnd.microsoft.datawrangler.viewer.v0+json": {
       "columns": [
        {
         "name": "index",
         "rawType": "object",
         "type": "string"
        },
        {
         "name": "0",
         "rawType": "object",
         "type": "unknown"
        }
       ],
       "ref": "35e77ff3-2622-406e-90c7-f73b4392f794",
       "rows": [
        [
         "cord_uid",
         "object"
        ],
        [
         "sha",
         "object"
        ],
        [
         "source_x",
         "object"
        ],
        [
         "title",
         "object"
        ],
        [
         "doi",
         "object"
        ],
        [
         "pmcid",
         "object"
        ],
        [
         "pubmed_id",
         "object"
        ],
        [
         "license",
         "object"
        ],
        [
         "abstract",
         "object"
        ],
        [
         "publish_time",
         "object"
        ],
        [
         "authors",
         "object"
        ],
        [
         "journal",
         "object"
        ],
        [
         "mag_id",
         "float64"
        ],
        [
         "who_covidence_id",
         "object"
        ],
        [
         "arxiv_id",
         "object"
        ],
        [
         "pdf_json_files",
         "object"
        ],
        [
         "pmc_json_files",
         "object"
        ],
        [
         "url",
         "object"
        ],
        [
         "s2_id",
         "float64"
        ]
       ],
       "shape": {
        "columns": 1,
        "rows": 19
       }
      },
      "text/plain": [
       "cord_uid             object\n",
       "sha                  object\n",
       "source_x             object\n",
       "title                object\n",
       "doi                  object\n",
       "pmcid                object\n",
       "pubmed_id            object\n",
       "license              object\n",
       "abstract             object\n",
       "publish_time         object\n",
       "authors              object\n",
       "journal              object\n",
       "mag_id              float64\n",
       "who_covidence_id     object\n",
       "arxiv_id             object\n",
       "pdf_json_files       object\n",
       "pmc_json_files       object\n",
       "url                  object\n",
       "s2_id               float64\n",
       "dtype: object"
      ]
     },
     "execution_count": 6,
     "metadata": {},
     "output_type": "execute_result"
    }
   ],
   "source": [
    "# Display the data types of each column\n",
    "df.dtypes"
   ]
  },
  {
   "cell_type": "code",
   "execution_count": 7,
   "id": "5ea6be97",
   "metadata": {},
   "outputs": [
    {
     "name": "stdout",
     "output_type": "stream",
     "text": [
      "Summary Statistics:\n"
     ]
    },
    {
     "data": {
      "application/vnd.microsoft.datawrangler.viewer.v0+json": {
       "columns": [
        {
         "name": "index",
         "rawType": "object",
         "type": "string"
        },
        {
         "name": "count",
         "rawType": "object",
         "type": "unknown"
        },
        {
         "name": "unique",
         "rawType": "object",
         "type": "unknown"
        },
        {
         "name": "top",
         "rawType": "object",
         "type": "unknown"
        },
        {
         "name": "freq",
         "rawType": "object",
         "type": "unknown"
        },
        {
         "name": "mean",
         "rawType": "object",
         "type": "unknown"
        },
        {
         "name": "std",
         "rawType": "object",
         "type": "unknown"
        },
        {
         "name": "min",
         "rawType": "object",
         "type": "unknown"
        },
        {
         "name": "25%",
         "rawType": "object",
         "type": "unknown"
        },
        {
         "name": "50%",
         "rawType": "object",
         "type": "unknown"
        },
        {
         "name": "75%",
         "rawType": "object",
         "type": "unknown"
        },
        {
         "name": "max",
         "rawType": "object",
         "type": "unknown"
        }
       ],
       "ref": "ccc697ce-1f59-4545-a884-e8315ab49cad",
       "rows": [
        [
         "cord_uid",
         "1056660",
         "970836",
         "kgpo6psq",
         "192",
         null,
         null,
         null,
         null,
         null,
         null,
         null
        ],
        [
         "sha",
         "373766",
         "373719",
         "31bc0fb718edaab9e33f678909710f62c40abebc",
         "3",
         null,
         null,
         null,
         null,
         null,
         null,
         null
        ],
        [
         "source_x",
         "1056660",
         "49",
         "WHO",
         "450459",
         null,
         null,
         null,
         null,
         null,
         null,
         null
        ],
        [
         "title",
         "1056157",
         "850366",
         "Reply",
         "251",
         null,
         null,
         null,
         null,
         null,
         null,
         null
        ],
        [
         "doi",
         "656780",
         "655525",
         "10.1016/j.scitotenv.2020.139397",
         "9",
         null,
         null,
         null,
         null,
         null,
         null,
         null
        ],
        [
         "pmcid",
         "389571",
         "389571",
         "PMC35282",
         "1",
         null,
         null,
         null,
         null,
         null,
         null,
         null
        ],
        [
         "pubmed_id",
         "498932.0",
         "498587.0",
         "35087663.0",
         "5.0",
         null,
         null,
         null,
         null,
         null,
         null,
         null
        ],
        [
         "license",
         "1056660",
         "18",
         "unk",
         "601506",
         null,
         null,
         null,
         null,
         null,
         null,
         null
        ],
        [
         "abstract",
         "821116",
         "730712",
         "[Figure: see text].",
         "206",
         null,
         null,
         null,
         null,
         null,
         null,
         null
        ],
        [
         "publish_time",
         "1054846",
         "8056",
         "2021",
         "233709",
         null,
         null,
         null,
         null,
         null,
         null,
         null
        ],
        [
         "authors",
         "1032791",
         "796659",
         "Anonymous,",
         "3904",
         null,
         null,
         null,
         null,
         null,
         null,
         null
        ],
        [
         "journal",
         "969338",
         "54993",
         "PLoS One",
         "9953",
         null,
         null,
         null,
         null,
         null,
         null,
         null
        ],
        [
         "mag_id",
         "0.0",
         null,
         null,
         null,
         null,
         null,
         null,
         null,
         null,
         null,
         null
        ],
        [
         "who_covidence_id",
         "482935",
         "482935",
         "#covidwho-1638294",
         "1",
         null,
         null,
         null,
         null,
         null,
         null,
         null
        ],
        [
         "arxiv_id",
         "14249.0",
         "14249.0",
         "2110.00181",
         "1.0",
         null,
         null,
         null,
         null,
         null,
         null,
         null
        ],
        [
         "pdf_json_files",
         "373766",
         "373719",
         "document_parses/pdf_json/31bc0fb718edaab9e33f678909710f62c40abebc.json",
         "3",
         null,
         null,
         null,
         null,
         null,
         null,
         null
        ],
        [
         "pmc_json_files",
         "315742",
         "315742",
         "document_parses/pmc_json/PMC35282.xml.json",
         "1",
         null,
         null,
         null,
         null,
         null,
         null,
         null
        ],
        [
         "url",
         "686934",
         "686934",
         "https://www.ncbi.nlm.nih.gov/pmc/articles/PMC35282/",
         "1",
         null,
         null,
         null,
         null,
         null,
         null,
         null
        ],
        [
         "s2_id",
         "976468.0",
         null,
         null,
         null,
         "217587096.13254812",
         "53122809.088056065",
         "96.0",
         "221141129.0",
         "232082903.0",
         "237394810.0",
         "249193570.0"
        ]
       ],
       "shape": {
        "columns": 11,
        "rows": 19
       }
      },
      "text/html": [
       "<div>\n",
       "<style scoped>\n",
       "    .dataframe tbody tr th:only-of-type {\n",
       "        vertical-align: middle;\n",
       "    }\n",
       "\n",
       "    .dataframe tbody tr th {\n",
       "        vertical-align: top;\n",
       "    }\n",
       "\n",
       "    .dataframe thead th {\n",
       "        text-align: right;\n",
       "    }\n",
       "</style>\n",
       "<table border=\"1\" class=\"dataframe\">\n",
       "  <thead>\n",
       "    <tr style=\"text-align: right;\">\n",
       "      <th></th>\n",
       "      <th>count</th>\n",
       "      <th>unique</th>\n",
       "      <th>top</th>\n",
       "      <th>freq</th>\n",
       "      <th>mean</th>\n",
       "      <th>std</th>\n",
       "      <th>min</th>\n",
       "      <th>25%</th>\n",
       "      <th>50%</th>\n",
       "      <th>75%</th>\n",
       "      <th>max</th>\n",
       "    </tr>\n",
       "  </thead>\n",
       "  <tbody>\n",
       "    <tr>\n",
       "      <th>cord_uid</th>\n",
       "      <td>1056660</td>\n",
       "      <td>970836</td>\n",
       "      <td>kgpo6psq</td>\n",
       "      <td>192</td>\n",
       "      <td>NaN</td>\n",
       "      <td>NaN</td>\n",
       "      <td>NaN</td>\n",
       "      <td>NaN</td>\n",
       "      <td>NaN</td>\n",
       "      <td>NaN</td>\n",
       "      <td>NaN</td>\n",
       "    </tr>\n",
       "    <tr>\n",
       "      <th>sha</th>\n",
       "      <td>373766</td>\n",
       "      <td>373719</td>\n",
       "      <td>31bc0fb718edaab9e33f678909710f62c40abebc</td>\n",
       "      <td>3</td>\n",
       "      <td>NaN</td>\n",
       "      <td>NaN</td>\n",
       "      <td>NaN</td>\n",
       "      <td>NaN</td>\n",
       "      <td>NaN</td>\n",
       "      <td>NaN</td>\n",
       "      <td>NaN</td>\n",
       "    </tr>\n",
       "    <tr>\n",
       "      <th>source_x</th>\n",
       "      <td>1056660</td>\n",
       "      <td>49</td>\n",
       "      <td>WHO</td>\n",
       "      <td>450459</td>\n",
       "      <td>NaN</td>\n",
       "      <td>NaN</td>\n",
       "      <td>NaN</td>\n",
       "      <td>NaN</td>\n",
       "      <td>NaN</td>\n",
       "      <td>NaN</td>\n",
       "      <td>NaN</td>\n",
       "    </tr>\n",
       "    <tr>\n",
       "      <th>title</th>\n",
       "      <td>1056157</td>\n",
       "      <td>850366</td>\n",
       "      <td>Reply</td>\n",
       "      <td>251</td>\n",
       "      <td>NaN</td>\n",
       "      <td>NaN</td>\n",
       "      <td>NaN</td>\n",
       "      <td>NaN</td>\n",
       "      <td>NaN</td>\n",
       "      <td>NaN</td>\n",
       "      <td>NaN</td>\n",
       "    </tr>\n",
       "    <tr>\n",
       "      <th>doi</th>\n",
       "      <td>656780</td>\n",
       "      <td>655525</td>\n",
       "      <td>10.1016/j.scitotenv.2020.139397</td>\n",
       "      <td>9</td>\n",
       "      <td>NaN</td>\n",
       "      <td>NaN</td>\n",
       "      <td>NaN</td>\n",
       "      <td>NaN</td>\n",
       "      <td>NaN</td>\n",
       "      <td>NaN</td>\n",
       "      <td>NaN</td>\n",
       "    </tr>\n",
       "    <tr>\n",
       "      <th>pmcid</th>\n",
       "      <td>389571</td>\n",
       "      <td>389571</td>\n",
       "      <td>PMC35282</td>\n",
       "      <td>1</td>\n",
       "      <td>NaN</td>\n",
       "      <td>NaN</td>\n",
       "      <td>NaN</td>\n",
       "      <td>NaN</td>\n",
       "      <td>NaN</td>\n",
       "      <td>NaN</td>\n",
       "      <td>NaN</td>\n",
       "    </tr>\n",
       "    <tr>\n",
       "      <th>pubmed_id</th>\n",
       "      <td>498932.0</td>\n",
       "      <td>498587.0</td>\n",
       "      <td>35087663.0</td>\n",
       "      <td>5.0</td>\n",
       "      <td>NaN</td>\n",
       "      <td>NaN</td>\n",
       "      <td>NaN</td>\n",
       "      <td>NaN</td>\n",
       "      <td>NaN</td>\n",
       "      <td>NaN</td>\n",
       "      <td>NaN</td>\n",
       "    </tr>\n",
       "    <tr>\n",
       "      <th>license</th>\n",
       "      <td>1056660</td>\n",
       "      <td>18</td>\n",
       "      <td>unk</td>\n",
       "      <td>601506</td>\n",
       "      <td>NaN</td>\n",
       "      <td>NaN</td>\n",
       "      <td>NaN</td>\n",
       "      <td>NaN</td>\n",
       "      <td>NaN</td>\n",
       "      <td>NaN</td>\n",
       "      <td>NaN</td>\n",
       "    </tr>\n",
       "    <tr>\n",
       "      <th>abstract</th>\n",
       "      <td>821116</td>\n",
       "      <td>730712</td>\n",
       "      <td>[Figure: see text].</td>\n",
       "      <td>206</td>\n",
       "      <td>NaN</td>\n",
       "      <td>NaN</td>\n",
       "      <td>NaN</td>\n",
       "      <td>NaN</td>\n",
       "      <td>NaN</td>\n",
       "      <td>NaN</td>\n",
       "      <td>NaN</td>\n",
       "    </tr>\n",
       "    <tr>\n",
       "      <th>publish_time</th>\n",
       "      <td>1054846</td>\n",
       "      <td>8056</td>\n",
       "      <td>2021</td>\n",
       "      <td>233709</td>\n",
       "      <td>NaN</td>\n",
       "      <td>NaN</td>\n",
       "      <td>NaN</td>\n",
       "      <td>NaN</td>\n",
       "      <td>NaN</td>\n",
       "      <td>NaN</td>\n",
       "      <td>NaN</td>\n",
       "    </tr>\n",
       "    <tr>\n",
       "      <th>authors</th>\n",
       "      <td>1032791</td>\n",
       "      <td>796659</td>\n",
       "      <td>Anonymous,</td>\n",
       "      <td>3904</td>\n",
       "      <td>NaN</td>\n",
       "      <td>NaN</td>\n",
       "      <td>NaN</td>\n",
       "      <td>NaN</td>\n",
       "      <td>NaN</td>\n",
       "      <td>NaN</td>\n",
       "      <td>NaN</td>\n",
       "    </tr>\n",
       "    <tr>\n",
       "      <th>journal</th>\n",
       "      <td>969338</td>\n",
       "      <td>54993</td>\n",
       "      <td>PLoS One</td>\n",
       "      <td>9953</td>\n",
       "      <td>NaN</td>\n",
       "      <td>NaN</td>\n",
       "      <td>NaN</td>\n",
       "      <td>NaN</td>\n",
       "      <td>NaN</td>\n",
       "      <td>NaN</td>\n",
       "      <td>NaN</td>\n",
       "    </tr>\n",
       "    <tr>\n",
       "      <th>mag_id</th>\n",
       "      <td>0.0</td>\n",
       "      <td>NaN</td>\n",
       "      <td>NaN</td>\n",
       "      <td>NaN</td>\n",
       "      <td>NaN</td>\n",
       "      <td>NaN</td>\n",
       "      <td>NaN</td>\n",
       "      <td>NaN</td>\n",
       "      <td>NaN</td>\n",
       "      <td>NaN</td>\n",
       "      <td>NaN</td>\n",
       "    </tr>\n",
       "    <tr>\n",
       "      <th>who_covidence_id</th>\n",
       "      <td>482935</td>\n",
       "      <td>482935</td>\n",
       "      <td>#covidwho-1638294</td>\n",
       "      <td>1</td>\n",
       "      <td>NaN</td>\n",
       "      <td>NaN</td>\n",
       "      <td>NaN</td>\n",
       "      <td>NaN</td>\n",
       "      <td>NaN</td>\n",
       "      <td>NaN</td>\n",
       "      <td>NaN</td>\n",
       "    </tr>\n",
       "    <tr>\n",
       "      <th>arxiv_id</th>\n",
       "      <td>14249.0</td>\n",
       "      <td>14249.0</td>\n",
       "      <td>2110.00181</td>\n",
       "      <td>1.0</td>\n",
       "      <td>NaN</td>\n",
       "      <td>NaN</td>\n",
       "      <td>NaN</td>\n",
       "      <td>NaN</td>\n",
       "      <td>NaN</td>\n",
       "      <td>NaN</td>\n",
       "      <td>NaN</td>\n",
       "    </tr>\n",
       "    <tr>\n",
       "      <th>pdf_json_files</th>\n",
       "      <td>373766</td>\n",
       "      <td>373719</td>\n",
       "      <td>document_parses/pdf_json/31bc0fb718edaab9e33f6...</td>\n",
       "      <td>3</td>\n",
       "      <td>NaN</td>\n",
       "      <td>NaN</td>\n",
       "      <td>NaN</td>\n",
       "      <td>NaN</td>\n",
       "      <td>NaN</td>\n",
       "      <td>NaN</td>\n",
       "      <td>NaN</td>\n",
       "    </tr>\n",
       "    <tr>\n",
       "      <th>pmc_json_files</th>\n",
       "      <td>315742</td>\n",
       "      <td>315742</td>\n",
       "      <td>document_parses/pmc_json/PMC35282.xml.json</td>\n",
       "      <td>1</td>\n",
       "      <td>NaN</td>\n",
       "      <td>NaN</td>\n",
       "      <td>NaN</td>\n",
       "      <td>NaN</td>\n",
       "      <td>NaN</td>\n",
       "      <td>NaN</td>\n",
       "      <td>NaN</td>\n",
       "    </tr>\n",
       "    <tr>\n",
       "      <th>url</th>\n",
       "      <td>686934</td>\n",
       "      <td>686934</td>\n",
       "      <td>https://www.ncbi.nlm.nih.gov/pmc/articles/PMC3...</td>\n",
       "      <td>1</td>\n",
       "      <td>NaN</td>\n",
       "      <td>NaN</td>\n",
       "      <td>NaN</td>\n",
       "      <td>NaN</td>\n",
       "      <td>NaN</td>\n",
       "      <td>NaN</td>\n",
       "      <td>NaN</td>\n",
       "    </tr>\n",
       "    <tr>\n",
       "      <th>s2_id</th>\n",
       "      <td>976468.0</td>\n",
       "      <td>NaN</td>\n",
       "      <td>NaN</td>\n",
       "      <td>NaN</td>\n",
       "      <td>217587096.132548</td>\n",
       "      <td>53122809.088056</td>\n",
       "      <td>96.0</td>\n",
       "      <td>221141129.0</td>\n",
       "      <td>232082903.0</td>\n",
       "      <td>237394810.0</td>\n",
       "      <td>249193570.0</td>\n",
       "    </tr>\n",
       "  </tbody>\n",
       "</table>\n",
       "</div>"
      ],
      "text/plain": [
       "                     count    unique  \\\n",
       "cord_uid           1056660    970836   \n",
       "sha                 373766    373719   \n",
       "source_x           1056660        49   \n",
       "title              1056157    850366   \n",
       "doi                 656780    655525   \n",
       "pmcid               389571    389571   \n",
       "pubmed_id         498932.0  498587.0   \n",
       "license            1056660        18   \n",
       "abstract            821116    730712   \n",
       "publish_time       1054846      8056   \n",
       "authors            1032791    796659   \n",
       "journal             969338     54993   \n",
       "mag_id                 0.0       NaN   \n",
       "who_covidence_id    482935    482935   \n",
       "arxiv_id           14249.0   14249.0   \n",
       "pdf_json_files      373766    373719   \n",
       "pmc_json_files      315742    315742   \n",
       "url                 686934    686934   \n",
       "s2_id             976468.0       NaN   \n",
       "\n",
       "                                                                top    freq  \\\n",
       "cord_uid                                                   kgpo6psq     192   \n",
       "sha                        31bc0fb718edaab9e33f678909710f62c40abebc       3   \n",
       "source_x                                                        WHO  450459   \n",
       "title                                                         Reply     251   \n",
       "doi                                 10.1016/j.scitotenv.2020.139397       9   \n",
       "pmcid                                                      PMC35282       1   \n",
       "pubmed_id                                                35087663.0     5.0   \n",
       "license                                                         unk  601506   \n",
       "abstract                                        [Figure: see text].     206   \n",
       "publish_time                                                   2021  233709   \n",
       "authors                                                  Anonymous,    3904   \n",
       "journal                                                    PLoS One    9953   \n",
       "mag_id                                                          NaN     NaN   \n",
       "who_covidence_id                                  #covidwho-1638294       1   \n",
       "arxiv_id                                                 2110.00181     1.0   \n",
       "pdf_json_files    document_parses/pdf_json/31bc0fb718edaab9e33f6...       3   \n",
       "pmc_json_files           document_parses/pmc_json/PMC35282.xml.json       1   \n",
       "url               https://www.ncbi.nlm.nih.gov/pmc/articles/PMC3...       1   \n",
       "s2_id                                                           NaN     NaN   \n",
       "\n",
       "                              mean              std   min          25%  \\\n",
       "cord_uid                       NaN              NaN   NaN          NaN   \n",
       "sha                            NaN              NaN   NaN          NaN   \n",
       "source_x                       NaN              NaN   NaN          NaN   \n",
       "title                          NaN              NaN   NaN          NaN   \n",
       "doi                            NaN              NaN   NaN          NaN   \n",
       "pmcid                          NaN              NaN   NaN          NaN   \n",
       "pubmed_id                      NaN              NaN   NaN          NaN   \n",
       "license                        NaN              NaN   NaN          NaN   \n",
       "abstract                       NaN              NaN   NaN          NaN   \n",
       "publish_time                   NaN              NaN   NaN          NaN   \n",
       "authors                        NaN              NaN   NaN          NaN   \n",
       "journal                        NaN              NaN   NaN          NaN   \n",
       "mag_id                         NaN              NaN   NaN          NaN   \n",
       "who_covidence_id               NaN              NaN   NaN          NaN   \n",
       "arxiv_id                       NaN              NaN   NaN          NaN   \n",
       "pdf_json_files                 NaN              NaN   NaN          NaN   \n",
       "pmc_json_files                 NaN              NaN   NaN          NaN   \n",
       "url                            NaN              NaN   NaN          NaN   \n",
       "s2_id             217587096.132548  53122809.088056  96.0  221141129.0   \n",
       "\n",
       "                          50%          75%          max  \n",
       "cord_uid                  NaN          NaN          NaN  \n",
       "sha                       NaN          NaN          NaN  \n",
       "source_x                  NaN          NaN          NaN  \n",
       "title                     NaN          NaN          NaN  \n",
       "doi                       NaN          NaN          NaN  \n",
       "pmcid                     NaN          NaN          NaN  \n",
       "pubmed_id                 NaN          NaN          NaN  \n",
       "license                   NaN          NaN          NaN  \n",
       "abstract                  NaN          NaN          NaN  \n",
       "publish_time              NaN          NaN          NaN  \n",
       "authors                   NaN          NaN          NaN  \n",
       "journal                   NaN          NaN          NaN  \n",
       "mag_id                    NaN          NaN          NaN  \n",
       "who_covidence_id          NaN          NaN          NaN  \n",
       "arxiv_id                  NaN          NaN          NaN  \n",
       "pdf_json_files            NaN          NaN          NaN  \n",
       "pmc_json_files            NaN          NaN          NaN  \n",
       "url                       NaN          NaN          NaN  \n",
       "s2_id             232082903.0  237394810.0  249193570.0  "
      ]
     },
     "metadata": {},
     "output_type": "display_data"
    }
   ],
   "source": [
    "# Check summary statistics for all numeric and categorical columns of the DataFrame\n",
    "print(\"Summary Statistics:\")\n",
    "summary_stats = df.describe(include='all').T\n",
    "\n",
    "# Show as a table for better readability\n",
    "display(summary_stats) #top :  İlgili sütunda en çok ne var?  # Freq : kaç kez geçmiş - sadece sayısal sütunlarda gösterilir. "
   ]
  },
  {
   "cell_type": "code",
   "execution_count": 8,
   "id": "08298a85",
   "metadata": {},
   "outputs": [
    {
     "name": "stdout",
     "output_type": "stream",
     "text": [
      "Her sütundaki  benzersiz değer var sayısı:\n",
      "cord_uid            970836\n",
      "sha                 373719\n",
      "source_x                49\n",
      "title               850366\n",
      "doi                 655525\n",
      "pmcid               389571\n",
      "pubmed_id           498587\n",
      "license                 18\n",
      "abstract            730712\n",
      "publish_time          8056\n",
      "authors             796659\n",
      "journal              54993\n",
      "mag_id                   0\n",
      "who_covidence_id    482935\n",
      "arxiv_id             14249\n",
      "pdf_json_files      373719\n",
      "pmc_json_files      315742\n",
      "url                 686934\n",
      "s2_id               678262\n",
      "dtype: int64\n"
     ]
    }
   ],
   "source": [
    "# Display the number of unique values in each column\n",
    "print(\"Her sütundaki  benzersiz değer var sayısı:\")\n",
    "print(df.nunique())"
   ]
  },
  {
   "cell_type": "code",
   "execution_count": 9,
   "id": "6f5da525",
   "metadata": {},
   "outputs": [
    {
     "data": {
      "text/plain": [
       "False"
      ]
     },
     "execution_count": 9,
     "metadata": {},
     "output_type": "execute_result"
    }
   ],
   "source": [
    "# Chek if there are any duplicated rows in the dataset\n",
    "df.duplicated().any()"
   ]
  },
  {
   "cell_type": "markdown",
   "id": "4877cf04",
   "metadata": {},
   "source": [
    "# Missing Value Analysis"
   ]
  },
  {
   "cell_type": "code",
   "execution_count": 10,
   "id": "01f921f1",
   "metadata": {},
   "outputs": [
    {
     "data": {
      "application/vnd.microsoft.datawrangler.viewer.v0+json": {
       "columns": [
        {
         "name": "index",
         "rawType": "object",
         "type": "string"
        },
        {
         "name": "Missing Values",
         "rawType": "int64",
         "type": "integer"
        },
        {
         "name": "Missing (%)",
         "rawType": "float64",
         "type": "float"
        }
       ],
       "ref": "03ee6281-7155-4415-93c6-c50d1d30404a",
       "rows": [
        [
         "abstract",
         "235544",
         "22.29137092347586"
        ],
        [
         "url",
         "369726",
         "34.990063028788825"
        ],
        [
         "doi",
         "399880",
         "37.843771884996116"
        ],
        [
         "pubmed_id",
         "557728",
         "52.78216266348683"
        ],
        [
         "who_covidence_id",
         "573725",
         "54.29608388696459"
        ],
        [
         "pmcid",
         "667089",
         "63.13184941229913"
        ],
        [
         "sha",
         "682894",
         "64.62760017413359"
        ],
        [
         "pdf_json_files",
         "682894",
         "64.62760017413359"
        ],
        [
         "pmc_json_files",
         "740918",
         "70.11886510324986"
        ],
        [
         "arxiv_id",
         "1042411",
         "98.65150568773305"
        ],
        [
         "mag_id",
         "1056660",
         "100.0"
        ]
       ],
       "shape": {
        "columns": 2,
        "rows": 11
       }
      },
      "text/html": [
       "<div>\n",
       "<style scoped>\n",
       "    .dataframe tbody tr th:only-of-type {\n",
       "        vertical-align: middle;\n",
       "    }\n",
       "\n",
       "    .dataframe tbody tr th {\n",
       "        vertical-align: top;\n",
       "    }\n",
       "\n",
       "    .dataframe thead th {\n",
       "        text-align: right;\n",
       "    }\n",
       "</style>\n",
       "<table border=\"1\" class=\"dataframe\">\n",
       "  <thead>\n",
       "    <tr style=\"text-align: right;\">\n",
       "      <th></th>\n",
       "      <th>Missing Values</th>\n",
       "      <th>Missing (%)</th>\n",
       "    </tr>\n",
       "  </thead>\n",
       "  <tbody>\n",
       "    <tr>\n",
       "      <th>abstract</th>\n",
       "      <td>235544</td>\n",
       "      <td>22.291371</td>\n",
       "    </tr>\n",
       "    <tr>\n",
       "      <th>url</th>\n",
       "      <td>369726</td>\n",
       "      <td>34.990063</td>\n",
       "    </tr>\n",
       "    <tr>\n",
       "      <th>doi</th>\n",
       "      <td>399880</td>\n",
       "      <td>37.843772</td>\n",
       "    </tr>\n",
       "    <tr>\n",
       "      <th>pubmed_id</th>\n",
       "      <td>557728</td>\n",
       "      <td>52.782163</td>\n",
       "    </tr>\n",
       "    <tr>\n",
       "      <th>who_covidence_id</th>\n",
       "      <td>573725</td>\n",
       "      <td>54.296084</td>\n",
       "    </tr>\n",
       "    <tr>\n",
       "      <th>pmcid</th>\n",
       "      <td>667089</td>\n",
       "      <td>63.131849</td>\n",
       "    </tr>\n",
       "    <tr>\n",
       "      <th>sha</th>\n",
       "      <td>682894</td>\n",
       "      <td>64.627600</td>\n",
       "    </tr>\n",
       "    <tr>\n",
       "      <th>pdf_json_files</th>\n",
       "      <td>682894</td>\n",
       "      <td>64.627600</td>\n",
       "    </tr>\n",
       "    <tr>\n",
       "      <th>pmc_json_files</th>\n",
       "      <td>740918</td>\n",
       "      <td>70.118865</td>\n",
       "    </tr>\n",
       "    <tr>\n",
       "      <th>arxiv_id</th>\n",
       "      <td>1042411</td>\n",
       "      <td>98.651506</td>\n",
       "    </tr>\n",
       "    <tr>\n",
       "      <th>mag_id</th>\n",
       "      <td>1056660</td>\n",
       "      <td>100.000000</td>\n",
       "    </tr>\n",
       "  </tbody>\n",
       "</table>\n",
       "</div>"
      ],
      "text/plain": [
       "                  Missing Values  Missing (%)\n",
       "abstract                  235544    22.291371\n",
       "url                       369726    34.990063\n",
       "doi                       399880    37.843772\n",
       "pubmed_id                 557728    52.782163\n",
       "who_covidence_id          573725    54.296084\n",
       "pmcid                     667089    63.131849\n",
       "sha                       682894    64.627600\n",
       "pdf_json_files            682894    64.627600\n",
       "pmc_json_files            740918    70.118865\n",
       "arxiv_id                 1042411    98.651506\n",
       "mag_id                   1056660   100.000000"
      ]
     },
     "execution_count": 10,
     "metadata": {},
     "output_type": "execute_result"
    }
   ],
   "source": [
    "# Calculate the number of missing values per column\n",
    "missing_values = df.isnull().sum().sort_values()\n",
    "\n",
    "# Calculate the percentage of missing values\n",
    "missing_percent = (missing_values / len(df)) * 100\n",
    "\n",
    "# Create a summary DataFrame\n",
    "missing_data = pd.DataFrame({\n",
    "    'Missing Values': missing_values,\n",
    "    'Missing (%)': missing_percent\n",
    "})\n",
    "\n",
    "# Display columns with more than 10% missing data\n",
    "missing_data[missing_data['Missing (%)'] > 10]\n"
   ]
  },
  {
   "cell_type": "code",
   "execution_count": 11,
   "id": "c2850104",
   "metadata": {},
   "outputs": [
    {
     "data": {
      "image/png": "[encoded data removed]",
      "text/plain": [
       "<Figure size 1200x600 with 1 Axes>"
      ]
     },
     "metadata": {},
     "output_type": "display_data"
    }
   ],
   "source": [
    "# Bar plot for missing values percentage\n",
    "missing_percent = (df.isnull().sum() / len(df)) * 100\n",
    "\n",
    "plt.figure(figsize=(12, 6))\n",
    "missing_percent[missing_percent > 0].sort_values(ascending=False).plot(kind='bar', color='salmon')\n",
    "plt.ylabel(\"Missing Value Percentage (%)\")\n",
    "plt.title(\"Percentage of Missing Values by Column\")\n",
    "plt.xticks(rotation=45)\n",
    "plt.show()"
   ]
  },
  {
   "cell_type": "code",
   "execution_count": 12,
   "id": "e7ed4d41",
   "metadata": {},
   "outputs": [],
   "source": [
    "df_clean = df.drop(columns=['mag_id', 'sha', 'pmcid', 'pdf_json_files', 'pmc_json_files', 'arxiv_id'])\n",
    "df_clean = df_clean.dropna(subset=['title', 'abstract', 'publish_time'])"
   ]
  },
  {
   "cell_type": "markdown",
   "id": "6dbee36c",
   "metadata": {},
   "source": [
    "Statistical Anaylsis for Numerical Columns"
   ]
  },
  {
   "cell_type": "code",
   "execution_count": 13,
   "id": "0cb924a6",
   "metadata": {},
   "outputs": [
    {
     "name": "stdout",
     "output_type": "stream",
     "text": [
      "Numerical columns: ['s2_id']\n",
      "------------------------------\n",
      "Total number of numerical columns: 1\n"
     ]
    }
   ],
   "source": [
    "#Check for numerical columns in the DataFrame\n",
    "numeric_cols = df_clean.select_dtypes(include=np.number).columns.tolist()\n",
    "print(\"Numerical columns:\", numeric_cols)\n",
    "print(\"-\" * 30)\n",
    "print(f\"Total number of numerical columns: {len(numeric_cols)}\")"
   ]
  },
  {
   "cell_type": "code",
   "execution_count": 14,
   "id": "91d220fe",
   "metadata": {},
   "outputs": [
    {
     "data": {
      "application/vnd.microsoft.datawrangler.viewer.v0+json": {
       "columns": [
        {
         "name": "index",
         "rawType": "object",
         "type": "string"
        },
        {
         "name": "s2_id",
         "rawType": "float64",
         "type": "float"
        }
       ],
       "ref": "4e4ee3f7-85f6-4b10-bc63-82666b0bb143",
       "rows": [
        [
         "count",
         "763463.0"
        ],
        [
         "mean",
         "216362488.84000927"
        ],
        [
         "std",
         "56725898.09433482"
        ],
        [
         "min",
         "96.0"
        ],
        [
         "25%",
         "221503814.0"
        ],
        [
         "50%",
         "232363535.0"
        ],
        [
         "75%",
         "237993182.5"
        ],
        [
         "max",
         "249193570.0"
        ]
       ],
       "shape": {
        "columns": 1,
        "rows": 8
       }
      },
      "text/html": [
       "<div>\n",
       "<style scoped>\n",
       "    .dataframe tbody tr th:only-of-type {\n",
       "        vertical-align: middle;\n",
       "    }\n",
       "\n",
       "    .dataframe tbody tr th {\n",
       "        vertical-align: top;\n",
       "    }\n",
       "\n",
       "    .dataframe thead th {\n",
       "        text-align: right;\n",
       "    }\n",
       "</style>\n",
       "<table border=\"1\" class=\"dataframe\">\n",
       "  <thead>\n",
       "    <tr style=\"text-align: right;\">\n",
       "      <th></th>\n",
       "      <th>s2_id</th>\n",
       "    </tr>\n",
       "  </thead>\n",
       "  <tbody>\n",
       "    <tr>\n",
       "      <th>count</th>\n",
       "      <td>7.634630e+05</td>\n",
       "    </tr>\n",
       "    <tr>\n",
       "      <th>mean</th>\n",
       "      <td>2.163625e+08</td>\n",
       "    </tr>\n",
       "    <tr>\n",
       "      <th>std</th>\n",
       "      <td>5.672590e+07</td>\n",
       "    </tr>\n",
       "    <tr>\n",
       "      <th>min</th>\n",
       "      <td>9.600000e+01</td>\n",
       "    </tr>\n",
       "    <tr>\n",
       "      <th>25%</th>\n",
       "      <td>2.215038e+08</td>\n",
       "    </tr>\n",
       "    <tr>\n",
       "      <th>50%</th>\n",
       "      <td>2.323635e+08</td>\n",
       "    </tr>\n",
       "    <tr>\n",
       "      <th>75%</th>\n",
       "      <td>2.379932e+08</td>\n",
       "    </tr>\n",
       "    <tr>\n",
       "      <th>max</th>\n",
       "      <td>2.491936e+08</td>\n",
       "    </tr>\n",
       "  </tbody>\n",
       "</table>\n",
       "</div>"
      ],
      "text/plain": [
       "              s2_id\n",
       "count  7.634630e+05\n",
       "mean   2.163625e+08\n",
       "std    5.672590e+07\n",
       "min    9.600000e+01\n",
       "25%    2.215038e+08\n",
       "50%    2.323635e+08\n",
       "75%    2.379932e+08\n",
       "max    2.491936e+08"
      ]
     },
     "execution_count": 14,
     "metadata": {},
     "output_type": "execute_result"
    }
   ],
   "source": [
    "# Summary statistics for all numerical columns in the DataFrame\n",
    "df_clean.select_dtypes(include=np.number).describe()"
   ]
  },
  {
   "cell_type": "code",
   "execution_count": 15,
   "id": "aafa88d6",
   "metadata": {},
   "outputs": [
    {
     "name": "stdout",
     "output_type": "stream",
     "text": [
      "s2_id Column unique value counts : \n",
      "s2_id\n",
      "226287515.0    100\n",
      "229043716.0     25\n",
      "226382072.0     15\n",
      "225915293.0     12\n",
      "233871284.0      8\n",
      "              ... \n",
      "13026216.0       1\n",
      "248416644.0      1\n",
      "23168334.0       1\n",
      "21634788.0       1\n",
      "221129148.0      1\n",
      "Name: count, Length: 560571, dtype: int64\n",
      "______________________________\n"
     ]
    }
   ],
   "source": [
    "for i in numeric_cols:\n",
    "    print(f'{i} Column unique value counts : ')\n",
    "    print(df_clean[i].value_counts())\n",
    "    print('_'*30)"
   ]
  },
  {
   "cell_type": "markdown",
   "id": "3a719a62",
   "metadata": {},
   "source": [
    "Statistical Anaylsis for Categorical Columns"
   ]
  },
  {
   "cell_type": "code",
   "execution_count": 16,
   "id": "5b848c23",
   "metadata": {},
   "outputs": [
    {
     "name": "stdout",
     "output_type": "stream",
     "text": [
      "['cord_uid', 'source_x', 'title', 'doi', 'pubmed_id', 'license', 'abstract', 'publish_time', 'authors', 'journal', 'who_covidence_id', 'url']\n",
      "------------------------------\n",
      "Number of categorical Columns : 12\n"
     ]
    }
   ],
   "source": [
    "# Check for categorical columns in the DataFrame\n",
    "categorical_cols = df_clean.select_dtypes(include=['object']).columns.tolist()      \n",
    "print(categorical_cols)\n",
    "print('-'*30)\n",
    "print(f'Number of categorical Columns : {len(categorical_cols)}')"
   ]
  },
  {
   "cell_type": "code",
   "execution_count": 17,
   "id": "40a78733",
   "metadata": {},
   "outputs": [
    {
     "data": {
      "application/vnd.microsoft.datawrangler.viewer.v0+json": {
       "columns": [
        {
         "name": "index",
         "rawType": "object",
         "type": "string"
        },
        {
         "name": "cord_uid",
         "rawType": "object",
         "type": "unknown"
        },
        {
         "name": "source_x",
         "rawType": "object",
         "type": "unknown"
        },
        {
         "name": "title",
         "rawType": "object",
         "type": "unknown"
        },
        {
         "name": "doi",
         "rawType": "object",
         "type": "unknown"
        },
        {
         "name": "pubmed_id",
         "rawType": "float64",
         "type": "float"
        },
        {
         "name": "license",
         "rawType": "object",
         "type": "unknown"
        },
        {
         "name": "abstract",
         "rawType": "object",
         "type": "unknown"
        },
        {
         "name": "publish_time",
         "rawType": "object",
         "type": "unknown"
        },
        {
         "name": "authors",
         "rawType": "object",
         "type": "unknown"
        },
        {
         "name": "journal",
         "rawType": "object",
         "type": "unknown"
        },
        {
         "name": "who_covidence_id",
         "rawType": "object",
         "type": "unknown"
        },
        {
         "name": "url",
         "rawType": "object",
         "type": "unknown"
        }
       ],
       "ref": "8251d813-bf34-4b36-836c-28b3d149ce40",
       "rows": [
        [
         "count",
         "819282",
         "819282",
         "819282",
         "533540",
         "404312.0",
         "819282",
         "819282",
         "819282",
         "814277",
         "742007",
         "357358",
         "559421"
        ],
        [
         "unique",
         "762692",
         "49",
         "676013",
         "532618",
         "403980.0",
         "18",
         "729225",
         "7644",
         "667820",
         "50144",
         "357358",
         "559421"
        ],
        [
         "top",
         "3xm3rbz5",
         "WHO",
         "ACR Convergence 2020 Abstract Supplement",
         "10.1016/j.scitotenv.2020.139397",
         "35087663.0",
         "unk",
         "[Figure: see text].",
         "2021",
         "Anonymous,",
         "PLoS One",
         "#covidwho-1638294",
         "https://www.ncbi.nlm.nih.gov/pmc/articles/PMC35282/"
        ],
        [
         "freq",
         "99",
         "332888",
         "99",
         "9",
         "5.0",
         "443654",
         "206",
         "183514",
         "1469",
         "9937",
         "1",
         "1"
        ]
       ],
       "shape": {
        "columns": 12,
        "rows": 4
       }
      },
      "text/html": [
       "<div>\n",
       "<style scoped>\n",
       "    .dataframe tbody tr th:only-of-type {\n",
       "        vertical-align: middle;\n",
       "    }\n",
       "\n",
       "    .dataframe tbody tr th {\n",
       "        vertical-align: top;\n",
       "    }\n",
       "\n",
       "    .dataframe thead th {\n",
       "        text-align: right;\n",
       "    }\n",
       "</style>\n",
       "<table border=\"1\" class=\"dataframe\">\n",
       "  <thead>\n",
       "    <tr style=\"text-align: right;\">\n",
       "      <th></th>\n",
       "      <th>cord_uid</th>\n",
       "      <th>source_x</th>\n",
       "      <th>title</th>\n",
       "      <th>doi</th>\n",
       "      <th>pubmed_id</th>\n",
       "      <th>license</th>\n",
       "      <th>abstract</th>\n",
       "      <th>publish_time</th>\n",
       "      <th>authors</th>\n",
       "      <th>journal</th>\n",
       "      <th>who_covidence_id</th>\n",
       "      <th>url</th>\n",
       "    </tr>\n",
       "  </thead>\n",
       "  <tbody>\n",
       "    <tr>\n",
       "      <th>count</th>\n",
       "      <td>819282</td>\n",
       "      <td>819282</td>\n",
       "      <td>819282</td>\n",
       "      <td>533540</td>\n",
       "      <td>404312.0</td>\n",
       "      <td>819282</td>\n",
       "      <td>819282</td>\n",
       "      <td>819282</td>\n",
       "      <td>814277</td>\n",
       "      <td>742007</td>\n",
       "      <td>357358</td>\n",
       "      <td>559421</td>\n",
       "    </tr>\n",
       "    <tr>\n",
       "      <th>unique</th>\n",
       "      <td>762692</td>\n",
       "      <td>49</td>\n",
       "      <td>676013</td>\n",
       "      <td>532618</td>\n",
       "      <td>403980.0</td>\n",
       "      <td>18</td>\n",
       "      <td>729225</td>\n",
       "      <td>7644</td>\n",
       "      <td>667820</td>\n",
       "      <td>50144</td>\n",
       "      <td>357358</td>\n",
       "      <td>559421</td>\n",
       "    </tr>\n",
       "    <tr>\n",
       "      <th>top</th>\n",
       "      <td>3xm3rbz5</td>\n",
       "      <td>WHO</td>\n",
       "      <td>ACR Convergence 2020 Abstract Supplement</td>\n",
       "      <td>10.1016/j.scitotenv.2020.139397</td>\n",
       "      <td>35087663.0</td>\n",
       "      <td>unk</td>\n",
       "      <td>[Figure: see text].</td>\n",
       "      <td>2021</td>\n",
       "      <td>Anonymous,</td>\n",
       "      <td>PLoS One</td>\n",
       "      <td>#covidwho-1638294</td>\n",
       "      <td>https://www.ncbi.nlm.nih.gov/pmc/articles/PMC3...</td>\n",
       "    </tr>\n",
       "    <tr>\n",
       "      <th>freq</th>\n",
       "      <td>99</td>\n",
       "      <td>332888</td>\n",
       "      <td>99</td>\n",
       "      <td>9</td>\n",
       "      <td>5.0</td>\n",
       "      <td>443654</td>\n",
       "      <td>206</td>\n",
       "      <td>183514</td>\n",
       "      <td>1469</td>\n",
       "      <td>9937</td>\n",
       "      <td>1</td>\n",
       "      <td>1</td>\n",
       "    </tr>\n",
       "  </tbody>\n",
       "</table>\n",
       "</div>"
      ],
      "text/plain": [
       "        cord_uid source_x                                     title  \\\n",
       "count     819282   819282                                    819282   \n",
       "unique    762692       49                                    676013   \n",
       "top     3xm3rbz5      WHO  ACR Convergence 2020 Abstract Supplement   \n",
       "freq          99   332888                                        99   \n",
       "\n",
       "                                    doi   pubmed_id license  \\\n",
       "count                            533540    404312.0  819282   \n",
       "unique                           532618    403980.0      18   \n",
       "top     10.1016/j.scitotenv.2020.139397  35087663.0     unk   \n",
       "freq                                  9         5.0  443654   \n",
       "\n",
       "                   abstract publish_time     authors   journal  \\\n",
       "count                819282       819282      814277    742007   \n",
       "unique               729225         7644      667820     50144   \n",
       "top     [Figure: see text].         2021  Anonymous,  PLoS One   \n",
       "freq                    206       183514        1469      9937   \n",
       "\n",
       "         who_covidence_id                                                url  \n",
       "count              357358                                             559421  \n",
       "unique             357358                                             559421  \n",
       "top     #covidwho-1638294  https://www.ncbi.nlm.nih.gov/pmc/articles/PMC3...  \n",
       "freq                    1                                                  1  "
      ]
     },
     "execution_count": 17,
     "metadata": {},
     "output_type": "execute_result"
    }
   ],
   "source": [
    "# Check summary statistics for all categorical columns in the DataFrame\n",
    "df_clean.select_dtypes('object').describe()"
   ]
  },
  {
   "cell_type": "code",
   "execution_count": 18,
   "id": "c91e360b",
   "metadata": {},
   "outputs": [
    {
     "name": "stdout",
     "output_type": "stream",
     "text": [
      "cord_uid Column unique value counts : \n",
      "cord_uid\n",
      "3xm3rbz5    99\n",
      "m1tx74tc    68\n",
      "wtrbzn46    45\n",
      "41lri82r    25\n",
      "9k9qx92b    23\n",
      "            ..\n",
      "t42lu9yo     1\n",
      "5qrx8lri     1\n",
      "uxwyupn0     1\n",
      "ss4vy4fa     1\n",
      "pq54lvya     1\n",
      "Name: count, Length: 762692, dtype: int64\n",
      "______________________________\n",
      "source_x Column unique value counts : \n",
      "source_x\n",
      "WHO                                    332888\n",
      "Medline; PMC                           130293\n",
      "Medline                                100203\n",
      "Medline; PMC; WHO                       58329\n",
      "PMC                                     55819\n",
      "Elsevier; Medline; PMC                  36515\n",
      "Medline; WHO                            32708\n",
      "Elsevier; Medline; PMC; WHO             15033\n",
      "MedRxiv; WHO                            13755\n",
      "ArXiv                                   13176\n",
      "Elsevier; PMC                            4944\n",
      "PMC; WHO                                 4941\n",
      "MedRxiv                                  4716\n",
      "Elsevier; PMC; WHO                       4107\n",
      "BioRxiv; WHO                             3746\n",
      "BioRxiv                                  3600\n",
      "MedRxiv; Medline; PMC; WHO                957\n",
      "BioRxiv; Medline; PMC; WHO                704\n",
      "BioRxiv; Medline; WHO                     403\n",
      "MedRxiv; Medline; WHO                     389\n",
      "Elsevier                                  341\n",
      "BioRxiv; MedRxiv                          248\n",
      "ArXiv; Medline; PMC                       237\n",
      "ArXiv; WHO                                209\n",
      "ArXiv; Medline                            177\n",
      "ArXiv; Medline; PMC; WHO                  176\n",
      "ArXiv; Medline; WHO                       127\n",
      "MedRxiv; Medline; PMC                     102\n",
      "BioRxiv; Medline; PMC                      88\n",
      "BioRxiv; MedRxiv; WHO                      73\n",
      "ArXiv; Elsevier; Medline; PMC              68\n",
      "ArXiv; Elsevier; Medline; PMC; WHO         45\n",
      "BioRxiv; Medline                           34\n",
      "Elsevier; Medline                          34\n",
      "MedRxiv; Medline                           23\n",
      "ArXiv; Elsevier; PMC                       11\n",
      "ArXiv; PMC                                 11\n",
      "MedRxiv; PMC                               10\n",
      "BioRxiv; MedRxiv; Medline; WHO              9\n",
      "Elsevier; WHO                               7\n",
      "ArXiv; PMC; WHO                             5\n",
      "BioRxiv; MedRxiv; Medline; PMC; WHO         5\n",
      "BioRxiv; MedRxiv; Medline; PMC              4\n",
      "Elsevier; Medline; WHO                      3\n",
      "ArXiv; Elsevier                             2\n",
      "ArXiv; Elsevier; PMC; WHO                   2\n",
      "ArXiv; MedRxiv; WHO                         2\n",
      "MedRxiv; PMC; WHO                           2\n",
      "ArXiv; MedRxiv                              1\n",
      "Name: count, dtype: int64\n",
      "______________________________\n",
      "title Column unique value counts : \n",
      "title\n",
      "ACR Convergence 2020 Abstract Supplement                                                                                                              99\n",
      "Guest editorial                                                                                                                                       68\n",
      "Highlights from this issue                                                                                                                            43\n",
      "Conclusion                                                                                                                                            41\n",
      "Erratum                                                                                                                                               25\n",
      "                                                                                                                                                      ..\n",
      "Penerimaan dukungan sosial sebagai prediktor resiliensi pada tenaga kesehatan di masa pandemi COVID-19                                                 1\n",
      "Harnessing mobile technology to support type 2 diabetes self-management among Chinese and Hispanic immigrants: a mixed-methods acceptability study     1\n",
      "The psychological impact of the COVID-19 crisis is higher among young Swiss men with a lower socioeconomic status: evidence from a cohort study        1\n",
      "COVID-19: Global pandemic, societal responses, ideological solutions                                                                                   1\n",
      "Hospital variation in admissions to neonatal intensive care units by diagnosis severity and category                                                   1\n",
      "Name: count, Length: 676013, dtype: int64\n",
      "______________________________\n",
      "doi Column unique value counts : \n",
      "doi\n",
      "10.1016/j.scitotenv.2020.139397     9\n",
      "10.1016/j.jcv.2020.104440           4\n",
      "10.1093/cid/ciaa722                 4\n",
      "10.1016/j.jcv.2020.104441           4\n",
      "10.1016/j.jcv.2020.104429           4\n",
      "                                   ..\n",
      "10.1177/08295735211037805           1\n",
      "10.1108/s1529-209620220000025010    1\n",
      "10.1002/rmv.2238                    1\n",
      "10.1007/978-3-030-77685-5_22        1\n",
      "10.1038/s41372-020-00775-z          1\n",
      "Name: count, Length: 532618, dtype: int64\n",
      "______________________________\n",
      "pubmed_id Column unique value counts : \n",
      "pubmed_id\n",
      "35087663.0    5\n",
      "33117894.0    5\n",
      "32419926.0    4\n",
      "34540201.0    4\n",
      "32685698.0    3\n",
      "             ..\n",
      "35071670.0    1\n",
      "32307245.0    1\n",
      "34050731.0    1\n",
      "34816056.0    1\n",
      "32801351.0    1\n",
      "Name: count, Length: 403980, dtype: int64\n",
      "______________________________\n",
      "license Column unique value counts : \n",
      "license\n",
      "unk            443654\n",
      "cc-by          151771\n",
      "no-cc          116112\n",
      "cc-by-nc        23106\n",
      "els-covid       20234\n",
      "medrxiv         17931\n",
      "cc-by-nc-nd     16661\n",
      "arxiv           13698\n",
      "biorxiv          7840\n",
      "cc-by-nc-sa      4459\n",
      "cc0               914\n",
      "green-oa          852\n",
      "cc-by-nd          776\n",
      "bronze-oa         673\n",
      "hybrid-oa         251\n",
      "cc-by-sa          165\n",
      "pd                101\n",
      "gold-oa            84\n",
      "Name: count, dtype: int64\n",
      "______________________________\n",
      "abstract Column unique value counts : \n",
      "abstract\n",
      "[Figure: see text].                                                                                                                                                                                                                                                                                                                                                                                                                                                                                                                                                                                                                                                                                                                                                                                                                                                                                                                                                                                                                                                                                                                                                                                                                                                                                                                                                                                                                                                                                                                                                                                                                                                                                                                                                                                                                                                                                                                                                                                                                                  206\n",
      "An amendment to this paper has been published and can be accessed via a link at the top of the paper.                                                                                                                                                                                                                                                                                                                                                                                                                                                                                                                                                                                                                                                                                                                                                                                                                                                                                                                                                                                                                                                                                                                                                                                                                                                                                                                                                                                                                                                                                                                                                                                                                                                                                                                                                                                                                                                                                                                                                205\n",
      "[Figure: see text]                                                                                                                                                                                                                                                                                                                                                                                                                                                                                                                                                                                                                                                                                                                                                                                                                                                                                                                                                                                                                                                                                                                                                                                                                                                                                                                                                                                                                                                                                                                                                                                                                                                                                                                                                                                                                                                                                                                                                                                                                                   166\n",
      "Unknown                                                                                                                                                                                                                                                                                                                                                                                                                                                                                                                                                                                                                                                                                                                                                                                                                                                                                                                                                                                                                                                                                                                                                                                                                                                                                                                                                                                                                                                                                                                                                                                                                                                                                                                                                                                                                                                                                                                                                                                                                                              143\n",
      "In an effort to expedite the publication of articles related to the COVID-19 pandemic, AJHP is posting these manuscripts online as soon as possible after acceptance. Accepted manuscripts have been peer-reviewed and copyedited, but are posted online before technical formatting and author proofing. These manuscripts are not the final version of record and will be replaced with the final article (formatted per AJHP style and proofed by the authors) at a later time.                                                                                                                                                                                                                                                                                                                                                                                                                                                                                                                                                                                                                                                                                                                                                                                                                                                                                                                                                                                                                                                                                                                                                                                                                                                                                                                                                                                                                                                                                                                                                                   138\n",
      "                                                                                                                                                                                                                                                                                                                                                                                                                                                                                                                                                                                                                                                                                                                                                                                                                                                                                                                                                                                                                                                                                                                                                                                                                                                                                                                                                                                                                                                                                                                                                                                                                                                                                                                                                                                                                                                                                                                                                                                                                                                    ... \n",
      "BACKGROUND: Coronavirus disease 2019 (COVID-19) is a new viral disease and in a short period of time, the world has been affected in various economic, social, and health aspects. This disease has a high rate of transmission and mortality. The aim of this study is to investigate the factors affecting the survival of COVID-19 patients in Kurdistan province. METHODS: In this retrospective study, the data including demographic features and the patient's clinical background in terms of co-morbidities such as diabetes, cancer, chronic lung disease (CLD), coronary heart disease (CHD), chronic kidney disease (CKD) and weak immune system (WIS) were extracted from electronic medical records. We use Cox's regression proportional hazard (PH) to model. RESULTS: In this study, out of 1831 patients, 1019 were males (55.7%) and 812 were females (44.3%) with an average age of 52.74 ± 22.16 years. For survival analysis, data from people infected with COVID-19 who died or were still being treated were used. According to Cox's regression analysis, age variables (hazard ratio [HR]: 1.03, CI: 1.02-1.04), patients with a history of diabetes (HR: 2.16, CI: 1.38-3.38), cancer (HR: 3.57, CI: 1.82-7.02), CLD (HR: 2.21, CI: 1.22-4) and CHD (HR: 2.20, CI: 1.57-3.09) were significant and affected the hazard of death in patients with COVID-19 and assuming that the other variables in the model are constant, the hazard of death increases by 3% by increasing one unit (year), and the hazard of death in COVID-19 patients with CHD, diabetes, cancer, CLD is 2.16, 3.57, 2.2 and 2.21, respectively. CONCLUSION: According to findings, it is necessary to evaluate the prevalence of COVID-19 in patients with CLD, diabetes, cancer, CHD, and elder, as patients with these characteristics may face a greater risk of death. Therefore, we suggest that elders and people with those underlying illnesses need to be under active surveillance and screened frequently.                                1\n",
      "Diante das incertezas e falta de evidências científicas quanto à possibilidade de transmissão do novo coronavírus ao feto por mulheres grávidas diagnosticadas ou com suspeita de covid-19, médicos do Hospital das Clínicas (HC) da Faculdade de Medicina da USP (FMUSP), preparam protocolos de cuidados com os recém-nascidos durante e após o parto                                                                                                                                                                                                                                                                                                                                                                                                                                                                                                                                                                                                                                                                                                                                                                                                                                                                                                                                                                                                                                                                                                                                                                                                                                                                                                                                                                                                                                                                                                                                                                                                                                                                                                1\n",
      "The speed and volume of clinical research to discover effective drug against novel corona virus has been remarkable. To address the unmet medical need, the regulations are made flexible and convenient without any relaxation in drug safety reporting. The pharmacovigilance activities, especially adverse event reporting regardless of clinical trials or clinical practice should continue as usual because patient safety is the priority. The exposure to experimental drugs with limited evidence of risk-benefit makes it more crucial to adapt robust safety monitoring, accuracy in adverse event reporting, and timely assessment. With the current restriction on physical contact, travel and free movements, isolation, quarantine, and huge clinical workload during pandemic, causality assessment will be more challenging. It may not be possible to capture details of all adverse events, thereby affecting completeness and quality of safety reports. A substantial number of COVID 19 patients will receive investigational drugs along with multiple other medications for clinical manifestations and drug therapy for lifestyle diseases. Causality assessment will be a challenge due to overlapping toxicities, multiple confounding, contributory factors, and insufficient data on safety and risk profile of combining drugs. Assessment will be unable to precisely determine the causality as certain or unlikely, although, it will be valuable in categorizing the causal association as 'possible' adverse drug reactions and their scientific basis. Several of these detailed reports, when collated, can identify risk factors for possibilities of prevention or avoid harm. In the current situation of pandemic and uncertainty of experimental new and old repurposed drugs, causation needs to be viewed for the study drug with a public health perspective. After all, this is the best time tested approach to generate evidence and drug evaluation to prevent damage to prospective patients.      1\n",
      "The article develops a strategic framework to redefine American international leadership under the Biden administration. While the decline of the American-led order is not a new trend, it has been accelerated under the Trump administration, which focused on domestic policies and left the global stage in disarray. The challenges are many for the new president, and many pressures can already be felt. Biden’s administration is under high expectations to stabilize the international system and deal with the many issues that the world faces: economic recovery, COVID-19, climate change, cybersecurity, and relations with China, Russia, Iran, and North Korea, to name but a few. Yet, while the Biden presidency is—wrongly—understood as “U.S. back to normal,” the international stage has evolved. The article thus argues that restoring American world leadership means modifying that leadership and adapting it to the new reality. Building on management theories and the English School of international relations theories, the research presents a theoretical framework for reinventing and reconstructing a new form of leadership. It then applies the resulting strategic design to the Biden administration’s objectives and policies in the form of seven strategic recommendations. Ultimately, the article explains how the United States can remain world leader by acknowledging the current global situation and adopting a pragmatic vision of international affairs.                                                                                                                                                                                                                                                                                                                                                                                                                                                                                                                                     1\n",
      "OBJECTIVE: To examine interhospital variation in admissions to neonatal intensive care units (NICU) and reasons for the variation. STUDY DESIGN: 2010–2012 linked birth certificate and hospital discharge data from 35 hospitals in California on live births at 35–42 weeks gestation and ≥1500 g birth weight were used. Hospital variation in NICU admission rates was assessed by coefficient of variation. Patient/hospital characteristics associated with NICU admissions were identified by multivariable regression. RESULTS: Among 276,489 newborns, 6.3% were admitted to NICU with 34.5% of them having mild diagnoses. There was high interhospital variation in overall risk-adjusted rate of NICU admission (coefficient of variation = 26.2) and NICU admission rates for mild diagnoses (coefficient of variation: 46.4–74.0), but lower variation for moderate/severe diagnoses (coefficient of variation: 8.8–14.1). Births at hospitals with more NICU beds had a higher likelihood of NICU admission. CONCLUSION: Interhospital variation in NICU admissions is mostly driven by admissions for mild diagnoses, suggesting potential overuse.                                                                                                                                                                                                                                                                                                                                                                                                                                                                                                                                                                                                                                                                                                                                                                                                                                                                                    1\n",
      "Name: count, Length: 729225, dtype: int64\n",
      "______________________________\n",
      "publish_time Column unique value counts : \n",
      "publish_time\n",
      "2021          183514\n",
      "2020          141989\n",
      "2022           36625\n",
      "2015            3612\n",
      "2016            3592\n",
      "               ...  \n",
      "1991-08-19         1\n",
      "1987-08-31         1\n",
      "2000-12-19         1\n",
      "2002-10-16         1\n",
      "2005-10-26         1\n",
      "Name: count, Length: 7644, dtype: int64\n",
      "______________________________\n",
      "authors Column unique value counts : \n",
      "authors\n",
      "Anonymous,                                                                                        1469\n",
      "Canady, Valerie A.                                                                                 141\n",
      "Saúde, Organização Pan-Americana da                                                                107\n",
      "Knopf, Alison                                                                                      106\n",
      "Salud, Organización Panamericana de la                                                              95\n",
      "                                                                                                  ... \n",
      "Kim, Cho-Ja; Yoo, Hye-Ra; Yoo, Myung Sook; Kwon, Bo Eun; Hwang, Kyung Ja                             1\n",
      "Wahome, Michel; Rubinstein, Ellis                                                                    1\n",
      "Lo, Bernard; Katz, Mitchell H                                                                        1\n",
      "Moschos, S A; Williams, A E; Lindsay, M A                                                            1\n",
      "Haidari, Eman S.; Lee, Henry C.; Illuzzi, Jessica L.; Phibbs, Ciaran S.; Lin, Haiqun; Xu, Xiao       1\n",
      "Name: count, Length: 667820, dtype: int64\n",
      "______________________________\n",
      "journal Column unique value counts : \n",
      "journal\n",
      "PLoS One                                                                 9937\n",
      "bioRxiv                                                                  8960\n",
      "Int J Environ Res Public Health                                          8193\n",
      "Sci Rep                                                                  5834\n",
      "Cureus                                                                   4196\n",
      "                                                                         ... \n",
      "Iral-International Review of Applied Linguistics in Language Teaching       1\n",
      "Encyclopedia of Dairy Sciences (Third Edition)                              1\n",
      "South African Geographical Journal                                          1\n",
      "Journal of Experimental Medicine                                            1\n",
      "EURO Journal on Computational Optimization                                  1\n",
      "Name: count, Length: 50144, dtype: int64\n",
      "______________________________\n",
      "who_covidence_id Column unique value counts : \n",
      "who_covidence_id\n",
      "#covidwho-1638294      1\n",
      "#ppmedrxiv-21268424    1\n",
      "#612025                1\n",
      "#632455                1\n",
      "#covidwho-1277314      1\n",
      "                      ..\n",
      "#covidwho-1199080      1\n",
      "#1199080               1\n",
      "#19029                 1\n",
      "#755852                1\n",
      "#mdl-35386817          1\n",
      "Name: count, Length: 357358, dtype: int64\n",
      "______________________________\n",
      "url Column unique value counts : \n",
      "url\n",
      "https://www.ncbi.nlm.nih.gov/pmc/articles/PMC35282/                                                                                                                                                                                   1\n",
      "https://doi.org/10.3389/fpsyg.2021.576301; https://www.ncbi.nlm.nih.gov/pubmed/33643123/                                                                                                                                              1\n",
      "https://www.ncbi.nlm.nih.gov/pubmed/34527281/; https://doi.org/10.1093/ve/veab051                                                                                                                                                     1\n",
      "https://api.elsevier.com/content/article/pii/S0006349521004549; https://www.sciencedirect.com/science/article/pii/S0006349521004549?v=s5; https://www.ncbi.nlm.nih.gov/pubmed/34087216/; https://doi.org/10.1016/j.bpj.2021.05.025    1\n",
      "https://doi.org/10.1007/s11739-021-02857-y; https://www.ncbi.nlm.nih.gov/pubmed/34637084/                                                                                                                                             1\n",
      "                                                                                                                                                                                                                                     ..\n",
      "https://doi.org/10.21203/rs.3.rs-65967/v2                                                                                                                                                                                             1\n",
      "https://doi.org/10.1109/icitbe54178.2021.00063                                                                                                                                                                                        1\n",
      "https://doi.org/10.12968/jpar.2021.13.9.393                                                                                                                                                                                           1\n",
      "https://doi.org/10.1007/978-3-030-87234-2_27                                                                                                                                                                                          1\n",
      "https://doi.org/10.1038/s41372-020-00775-z; https://www.ncbi.nlm.nih.gov/pubmed/32801351/                                                                                                                                             1\n",
      "Name: count, Length: 559421, dtype: int64\n",
      "______________________________\n"
     ]
    }
   ],
   "source": [
    "# Display unique value counts for each categorical column\n",
    "for i in categorical_cols:\n",
    "    print(f'{i} Column unique value counts : ')\n",
    "    print(df_clean[i].value_counts())\n",
    "    print('_'*30)"
   ]
  },
  {
   "cell_type": "code",
   "execution_count": 19,
   "id": "0099869f",
   "metadata": {},
   "outputs": [
    {
     "name": "stdout",
     "output_type": "stream",
     "text": [
      "s2_id Column unique value counts : \n",
      "s2_id\n",
      "226287515.0    100\n",
      "229043716.0     25\n",
      "226382072.0     15\n",
      "225915293.0     12\n",
      "233871284.0      8\n",
      "              ... \n",
      "13026216.0       1\n",
      "248416644.0      1\n",
      "23168334.0       1\n",
      "21634788.0       1\n",
      "221129148.0      1\n",
      "Name: count, Length: 560571, dtype: int64\n",
      "______________________________\n"
     ]
    }
   ],
   "source": [
    "# Display unique value counts for each categorical column\n",
    "for i in numeric_cols:\n",
    "    print(f'{i} Column unique value counts : ')\n",
    "    print(df_clean[i].value_counts())\n",
    "    print('_'*30)"
   ]
  },
  {
   "cell_type": "markdown",
   "id": "2b0f8934",
   "metadata": {},
   "source": [
    "# Aykırı Değer  Analizi (Outlier Analysis)"
   ]
  },
  {
   "cell_type": "code",
   "execution_count": 20,
   "id": "8f9844e9",
   "metadata": {},
   "outputs": [
    {
     "name": "stdout",
     "output_type": "stream",
     "text": [
      "Number of invalid publish_time entries: 403794\n",
      "Earliest publish year: 1879.0\n",
      "Latest publish year: 2023.0\n",
      "Number of publications before 1900: 1\n",
      "Number of publications after 2025: 0\n"
     ]
    }
   ],
   "source": [
    "\n",
    "# Outlier Analysis for 'publish_time' and 'publish_year'\n",
    "df_clean['publish_time'] = pd.to_datetime(df_clean['publish_time'], errors='coerce')\n",
    "invalid_publish_time_count = df_clean['publish_time'].isna().sum()\n",
    "print(f\"Number of invalid publish_time entries: {invalid_publish_time_count}\")\n",
    "\n",
    "# Extract publication year\n",
    "df_clean['publish_year'] = df_clean['publish_time'].dt.year\n",
    "\n",
    "# Display earliest and latest publication years\n",
    "earliest_year = df_clean['publish_year'].min()\n",
    "latest_year = df_clean['publish_year'].max()\n",
    "print(f\"Earliest publish year: {earliest_year}\")\n",
    "print(f\"Latest publish year: {latest_year}\")\n",
    "\n",
    "# Identify outliers based on year thresholds\n",
    "outliers_early = df_clean[df_clean['publish_year'] < 1900]\n",
    "outliers_late = df_clean[df_clean['publish_year'] > 2025]\n",
    "print(f\"Number of publications before 1900: {len(outliers_early)}\")\n",
    "print(f\"Number of publications after 2025: {len(outliers_late)}\")"
   ]
  },
  {
   "cell_type": "code",
   "execution_count": 21,
   "id": "b6088cb5",
   "metadata": {},
   "outputs": [
    {
     "name": "stdout",
     "output_type": "stream",
     "text": [
      "Q1 (25th percentile): 2020.0\n",
      "Q3 (75th percentile): 2021.0\n",
      "IQR (Q3 - Q1): 1.0\n",
      "Lower bound for outliers (Q1 - 1.5*IQR): 2018.5\n",
      "Upper bound for outliers (Q3 + 1.5*IQR): 2022.5\n",
      "\n",
      "Number of potential outliers based on IQR method: 35403\n",
      "Potential outlier publish_year values:\n",
      "[2001. 2000. 2003. 2004. 2005. 1997. 2006. 2007. 2008. 2002. 2009. 2010.\n",
      " 2011. 2012. 1998. 1999. 2013. 2014. 2015. 2016. 2017. 2018. 1988. 1996.\n",
      " 1993. 1974. 1990. 1976. 1987. 1994. 1991. 1986. 1989. 1977. 1992. 1985.\n",
      " 1984. 1972. 1982. 1981. 1980. 1983. 1975. 1973. 1979. 1971. 1995. 1978.\n",
      " 1964. 1962. 1970. 2023. 1965. 1955. 1957. 1963. 1967. 1879.]\n"
     ]
    }
   ],
   "source": [
    "# Outlier detection for 'publish_year' using the IQR method\n",
    "def outlier_summary(series):\n",
    "    Q1 = series.quantile(0.25)\n",
    "    Q3 = series.quantile(0.75)\n",
    "    IQR = Q3 - Q1\n",
    "    lower_bound = Q1 - 1.5 * IQR\n",
    "    upper_bound = Q3 + 1.5 * IQR\n",
    "    print(f\"Q1 (25th percentile): {Q1}\")\n",
    "    print(f\"Q3 (75th percentile): {Q3}\")\n",
    "    print(f\"IQR (Q3 - Q1): {IQR}\")\n",
    "    print(f\"Lower bound for outliers (Q1 - 1.5*IQR): {lower_bound}\")\n",
    "    print(f\"Upper bound for outliers (Q3 + 1.5*IQR): {upper_bound}\")\n",
    "    outliers = series[(series < lower_bound) | (series > upper_bound)]\n",
    "    print(f\"\\nNumber of potential outliers based on IQR method: {outliers.shape[0]}\")\n",
    "    print(\"Potential outlier publish_year values:\")\n",
    "    print(outliers.unique())\n",
    "    return outliers\n",
    "\n",
    "outliers_iqr = outlier_summary(df_clean['publish_year'])"
   ]
  },
  {
   "cell_type": "code",
   "execution_count": 23,
   "id": "e0e91659",
   "metadata": {},
   "outputs": [
    {
     "data": {
      "image/png": "[encoded data removed]",
      "text/plain": [
       "<Figure size 700x150 with 1 Axes>"
      ]
     },
     "metadata": {},
     "output_type": "display_data"
    },
    {
     "data": {
      "image/png": "[encoded data removed]",
      "text/plain": [
       "<Figure size 700x150 with 1 Axes>"
      ]
     },
     "metadata": {},
     "output_type": "display_data"
    }
   ],
   "source": [
    "#Boxplot \n",
    "num_cols = df_clean.select_dtypes(include=np.number).columns\n",
    "\n",
    "for col in num_cols:\n",
    "    plt.figure(figsize=(7, 1.5))\n",
    "    sns.boxplot(x=df_clean[col], color=\"skyblue\")\n",
    "    plt.title(f\"{col} için Boxplot\")\n",
    "    plt.show()\n",
    "\n",
    "\n",
    "#Aykırı Değer Analizi İç Görüleri| Outlier Analysis Insights\n",
    "#Tüm değişkenlere ait boxplot grafiklerinde veri simetrik dağılmış ve medyan kutunun ortasında yer almıştır.\n",
    "# Aykırı değerler, boxplot’ta genellikle kutunun dışında küçük daireler, noktalar veya yıldızlar olarak gösterilir.\n",
    "# Grafik üzerinde herhangi bir aykırı değer gözlemlenmemiştir. \n",
    "# Bu durum, verisetindeki tüm sütunların istatistiksel olarak dengeli ve temiz olduğunu göstermektedir.\n",
    "# Herhangi bir aykırı değer temizleme işlemi ( standardizasyon ,normalizasyon ,transformasyon(Box-Plot,Log)) ihtiyaç duyulmaz."
   ]
  },
  {
   "cell_type": "code",
   "execution_count": 24,
   "id": "46338b01",
   "metadata": {},
   "outputs": [
    {
     "data": {
      "image/png": "[encoded data removed]",
      "text/plain": [
       "<Figure size 1000x600 with 1 Axes>"
      ]
     },
     "metadata": {},
     "output_type": "display_data"
    }
   ],
   "source": [
    "plt.figure(figsize=(10, 6))\n",
    "sns.boxplot(y=df_clean['publish_year'])\n",
    "plt.title(\"Boxplot of Publication Year\")\n",
    "plt.ylabel(\"Publication Year\")\n",
    "plt.show()"
   ]
  },
  {
   "cell_type": "markdown",
   "id": "f9a16faf",
   "metadata": {},
   "source": [
    "# Korelasyon Matriksi (Correlation Matrix)"
   ]
  },
  {
   "cell_type": "code",
   "execution_count": 25,
   "id": "b9e79344",
   "metadata": {},
   "outputs": [
    {
     "data": {
      "image/png": "[encoded data removed]",
      "text/plain": [
       "<Figure size 1000x600 with 2 Axes>"
      ]
     },
     "metadata": {},
     "output_type": "display_data"
    }
   ],
   "source": [
    "# Only numerical columns\n",
    "numerical_cols = df_clean.select_dtypes(include='number')\n",
    "\n",
    "# Correlation matrix\n",
    "plt.figure(figsize=(10, 6))\n",
    "sns.heatmap(numerical_cols.corr(), annot=True, cmap='coolwarm', fmt=\".2f\")\n",
    "plt.title(\"Correlation Matrix\")\n",
    "plt.show()"
   ]
  },
  {
   "cell_type": "code",
   "execution_count": 26,
   "id": "eac9b4c2",
   "metadata": {},
   "outputs": [],
   "source": [
    "df_clean['publish_time'] = pd.to_datetime(df_clean['publish_time'], errors='coerce')\n",
    "df_clean['publish_month'] = df_clean['publish_time'].dt.to_period('M')\n",
    "monthly_counts = df_clean[df_clean['publish_time'].dt.year >= 2019]['publish_month'].value_counts().sort_index()\n"
   ]
  },
  {
   "cell_type": "markdown",
   "id": "c07f9481",
   "metadata": {},
   "source": [
    "# Veri Görselleştirme "
   ]
  },
  {
   "cell_type": "code",
   "execution_count": 27,
   "id": "7fb57735",
   "metadata": {},
   "outputs": [
    {
     "data": {
      "image/png": "[encoded data removed]",
      "text/plain": [
       "<Figure size 1000x600 with 1 Axes>"
      ]
     },
     "metadata": {},
     "output_type": "display_data"
    }
   ],
   "source": [
    "# Bar plot for distribution of publication sources\n",
    "source_counts = df_clean['source_x'].value_counts()\n",
    "\n",
    "plt.figure(figsize=(10, 6))\n",
    "sns.barplot(x=source_counts.index, y=source_counts.values, color='skyblue')\n",
    "plt.title(\"Distribution of Publication Sources (source_x)\")\n",
    "plt.xlabel(\"Source\")\n",
    "plt.ylabel(\"Number of Publications\")\n",
    "plt.xticks(rotation=45, ha='right')\n",
    "plt.tight_layout()\n",
    "plt.show()"
   ]
  },
  {
   "cell_type": "code",
   "execution_count": 28,
   "id": "04256056",
   "metadata": {},
   "outputs": [
    {
     "data": {
      "image/png": "[encoded data removed]",
      "text/plain": [
       "<Figure size 800x800 with 1 Axes>"
      ]
     },
     "metadata": {},
     "output_type": "display_data"
    }
   ],
   "source": [
    "# Pie chart for distribution of publication licenses\n",
    "license_counts = df_clean['license'].value_counts()\n",
    "\n",
    "plt.figure(figsize=(8, 8))\n",
    "plt.pie(license_counts, labels=license_counts.index, autopct='%1.1f%%', startangle=140, colors=sns.color_palette(\"pastel\"))\n",
    "plt.title(\"Distribution of Publication Licenses\")\n",
    "plt.axis('equal')  # Equal aspect ratio ensures that pie is drawn as a circle.\n",
    "plt.show()"
   ]
  },
  {
   "cell_type": "code",
   "execution_count": 29,
   "id": "59c6ba71",
   "metadata": {},
   "outputs": [
    {
     "name": "stderr",
     "output_type": "stream",
     "text": [
      "C:\\Users\\nilay\\AppData\\Local\\Temp\\ipykernel_23388\\1753333444.py:4: FutureWarning: \n",
      "\n",
      "Passing `palette` without assigning `hue` is deprecated and will be removed in v0.14.0. Assign the `y` variable to `hue` and set `legend=False` for the same effect.\n",
      "\n",
      "  sns.barplot(y=top_journals.index, x=top_journals.values, palette=\"Blues_d\")\n"
     ]
    },
    {
     "data": {
      "image/png": "[encoded data removed]",
      "text/plain": [
       "<Figure size 1000x600 with 1 Axes>"
      ]
     },
     "metadata": {},
     "output_type": "display_data"
    }
   ],
   "source": [
    "\n",
    "top_journals = df_clean['journal'].value_counts().head(10)\n",
    "#  Create a bar chart\n",
    "plt.figure(figsize=(10, 6))\n",
    "sns.barplot(y=top_journals.index, x=top_journals.values, palette=\"Blues_d\")\n",
    "plt.title(\"Top 10 Journals by Number of Publications\")\n",
    "plt.xlabel(\"Number of Publications\")\n",
    "plt.ylabel(\"Journal\")\n",
    "plt.tight_layout()\n",
    "plt.show()\n"
   ]
  },
  {
   "cell_type": "code",
   "execution_count": 30,
   "id": "a7c1bf4d",
   "metadata": {},
   "outputs": [
    {
     "data": {
      "image/png": "[encoded data removed]",
      "text/plain": [
       "<Figure size 1400x600 with 1 Axes>"
      ]
     },
     "metadata": {},
     "output_type": "display_data"
    }
   ],
   "source": [
    "plt.figure(figsize=(14, 6))\n",
    "monthly_counts.plot(kind='area', color='skyblue', alpha=0.7)\n",
    "plt.title(\"Monthly Publication Trends Since 2019 (Area Plot)\")\n",
    "plt.xlabel(\"Publication Month\")\n",
    "plt.ylabel(\"Number of Publications\")\n",
    "plt.xticks(rotation=45)\n",
    "plt.tight_layout()\n",
    "plt.show()"
   ]
  }
 ],
 "metadata": {
  "kernelspec": {
   "display_name": "Python 3",
   "language": "python",
   "name": "python3"
  },
  "language_info": {
   "codemirror_mode": {
    "name": "ipython",
    "version": 3
   },
   "file_extension": ".py",
   "mimetype": "text/x-python",
   "name": "python",
   "nbconvert_exporter": "python",
   "pygments_lexer": "ipython3",
   "version": "3.11.5"
  }
 },
 "nbformat": 4,
 "nbformat_minor": 5
}
